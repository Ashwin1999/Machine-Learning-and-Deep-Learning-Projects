{
 "cells": [
  {
   "cell_type": "code",
   "execution_count": 1,
   "metadata": {},
   "outputs": [],
   "source": [
    "import pandas as pd\n",
    "import numpy as np\n",
    "import matplotlib.pyplot as plt\n",
    "import seaborn as sns"
   ]
  },
  {
   "cell_type": "code",
   "execution_count": 2,
   "metadata": {},
   "outputs": [
    {
     "data": {
      "text/html": [
       "<div>\n",
       "<style scoped>\n",
       "    .dataframe tbody tr th:only-of-type {\n",
       "        vertical-align: middle;\n",
       "    }\n",
       "\n",
       "    .dataframe tbody tr th {\n",
       "        vertical-align: top;\n",
       "    }\n",
       "\n",
       "    .dataframe thead th {\n",
       "        text-align: right;\n",
       "    }\n",
       "</style>\n",
       "<table border=\"1\" class=\"dataframe\">\n",
       "  <thead>\n",
       "    <tr style=\"text-align: right;\">\n",
       "      <th></th>\n",
       "      <th>consumer_complaint</th>\n",
       "      <th>Product</th>\n",
       "    </tr>\n",
       "  </thead>\n",
       "  <tbody>\n",
       "    <tr>\n",
       "      <td>0</td>\n",
       "      <td>XXXX has claimed I owe them {$27.00} for XXXX ...</td>\n",
       "      <td>Debt collection</td>\n",
       "    </tr>\n",
       "    <tr>\n",
       "      <td>1</td>\n",
       "      <td>Due to inconsistencies in the amount owed that...</td>\n",
       "      <td>Consumer Loan</td>\n",
       "    </tr>\n",
       "    <tr>\n",
       "      <td>2</td>\n",
       "      <td>In XX/XX/XXXX my wages that I earned at my job...</td>\n",
       "      <td>Mortgage</td>\n",
       "    </tr>\n",
       "    <tr>\n",
       "      <td>3</td>\n",
       "      <td>I have an open and current mortgage with Chase...</td>\n",
       "      <td>Mortgage</td>\n",
       "    </tr>\n",
       "    <tr>\n",
       "      <td>4</td>\n",
       "      <td>XXXX was submitted XX/XX/XXXX. At the time I s...</td>\n",
       "      <td>Mortgage</td>\n",
       "    </tr>\n",
       "  </tbody>\n",
       "</table>\n",
       "</div>"
      ],
      "text/plain": [
       "                                  consumer_complaint          Product\n",
       "0  XXXX has claimed I owe them {$27.00} for XXXX ...  Debt collection\n",
       "1  Due to inconsistencies in the amount owed that...    Consumer Loan\n",
       "2  In XX/XX/XXXX my wages that I earned at my job...         Mortgage\n",
       "3  I have an open and current mortgage with Chase...         Mortgage\n",
       "4  XXXX was submitted XX/XX/XXXX. At the time I s...         Mortgage"
      ]
     },
     "execution_count": 2,
     "metadata": {},
     "output_type": "execute_result"
    }
   ],
   "source": [
    "df = pd.read_csv('consumer_complaints.csv')\n",
    "df.head()"
   ]
  },
  {
   "cell_type": "code",
   "execution_count": 3,
   "metadata": {},
   "outputs": [
    {
     "data": {
      "text/plain": [
       "(array([17552.,  3678., 14919.,  7929., 12526.,  2128.,  5711.,   726.,\n",
       "          666.,   971.]),\n",
       " array([ 0.,  1.,  2.,  3.,  4.,  5.,  6.,  7.,  8.,  9., 10.]),\n",
       " <a list of 10 Patch objects>)"
      ]
     },
     "execution_count": 3,
     "metadata": {},
     "output_type": "execute_result"
    },
    {
     "data": {
      "image/png": "[encoded data removed]",
      "text/plain": [
       "<Figure size 432x288 with 1 Axes>"
      ]
     },
     "metadata": {
      "needs_background": "light"
     },
     "output_type": "display_data"
    }
   ],
   "source": [
    "plt.xticks(rotation='vertical')\n",
    "plt.hist(df.Product)"
   ]
  },
  {
   "cell_type": "code",
   "execution_count": 4,
   "metadata": {},
   "outputs": [],
   "source": [
    "def print_plot(index):\n",
    "    example = df[df.index == index][['consumer_complaint', 'Product']].values[0]\n",
    "    if len(example) > 0:\n",
    "        print(example[0])\n",
    "        print('Product:', example[1])"
   ]
  },
  {
   "cell_type": "code",
   "execution_count": 5,
   "metadata": {},
   "outputs": [
    {
     "name": "stdout",
     "output_type": "stream",
     "text": [
      "example 1:\n",
      "I am very disappointed that the CFPB did not help to resolve this fraudulant loan. # XXXX between XXXX XXXX and XXXX, FF ( AKA ) One West. Case # XXXX with CFPB. \n",
      "\n",
      "Product: Mortgage\n",
      "\n",
      "\n",
      "\n",
      "example 2:\n",
      "XXXX XXXX Services is listed on my credit reports as someone I owe money to. That is not true. I have never done business with this agency, and I do not owe them any money. They claim they are representing XXXX XXXX. I have not lived at XXXX XXXX for almost a year. When I was there, I always paid my rent on time. I fulfilled all the obligations of my lease, and I gave notice when I decided to move out. I do not owe them any money, and they never refunded my security deposit. \n",
      "\n",
      "Product: Credit reporting\n"
     ]
    }
   ],
   "source": [
    "print('example 1:')\n",
    "print_plot(10)\n",
    "print('\\n\\n')\n",
    "print('example 2:')\n",
    "print_plot(1000)"
   ]
  },
  {
   "cell_type": "code",
   "execution_count": 6,
   "metadata": {},
   "outputs": [
    {
     "data": {
      "text/html": [
       "<div>\n",
       "<style scoped>\n",
       "    .dataframe tbody tr th:only-of-type {\n",
       "        vertical-align: middle;\n",
       "    }\n",
       "\n",
       "    .dataframe tbody tr th {\n",
       "        vertical-align: top;\n",
       "    }\n",
       "\n",
       "    .dataframe thead th {\n",
       "        text-align: right;\n",
       "    }\n",
       "</style>\n",
       "<table border=\"1\" class=\"dataframe\">\n",
       "  <thead>\n",
       "    <tr style=\"text-align: right;\">\n",
       "      <th></th>\n",
       "      <th>consumer_complaint</th>\n",
       "      <th>Product</th>\n",
       "    </tr>\n",
       "  </thead>\n",
       "  <tbody>\n",
       "    <tr>\n",
       "      <td>0</td>\n",
       "      <td>claimed owe  years despite proof payment sent ...</td>\n",
       "      <td>Debt collection</td>\n",
       "    </tr>\n",
       "    <tr>\n",
       "      <td>1</td>\n",
       "      <td>due inconsistencies amount owed told bank amou...</td>\n",
       "      <td>Consumer Loan</td>\n",
       "    </tr>\n",
       "    <tr>\n",
       "      <td>2</td>\n",
       "      <td>wages earned job decreased almost half knew tr...</td>\n",
       "      <td>Mortgage</td>\n",
       "    </tr>\n",
       "    <tr>\n",
       "      <td>3</td>\n",
       "      <td>open current mortgage chase bank # chase repor...</td>\n",
       "      <td>Mortgage</td>\n",
       "    </tr>\n",
       "    <tr>\n",
       "      <td>4</td>\n",
       "      <td>submitted time submitted complaint dealt rushm...</td>\n",
       "      <td>Mortgage</td>\n",
       "    </tr>\n",
       "  </tbody>\n",
       "</table>\n",
       "</div>"
      ],
      "text/plain": [
       "                                  consumer_complaint          Product\n",
       "0  claimed owe  years despite proof payment sent ...  Debt collection\n",
       "1  due inconsistencies amount owed told bank amou...    Consumer Loan\n",
       "2  wages earned job decreased almost half knew tr...         Mortgage\n",
       "3  open current mortgage chase bank # chase repor...         Mortgage\n",
       "4  submitted time submitted complaint dealt rushm...         Mortgage"
      ]
     },
     "execution_count": 6,
     "metadata": {},
     "output_type": "execute_result"
    }
   ],
   "source": [
    "import re\n",
    "from nltk.corpus import stopwords\n",
    "from nltk import word_tokenize\n",
    "\n",
    "REPLACE_BY_SPACE_RE = re.compile('[/(){}\\[\\]\\|@,;]')\n",
    "BAD_SYMBOLS_RE = re.compile('[^0-9a-z #+_]')\n",
    "STOPWORDS = set(stopwords.words('english'))\n",
    "\n",
    "def clean_text(text):\n",
    "    # lowercase text\n",
    "    text = text.lower()\n",
    "    # replace REPLACE_BY_SPACE_RE symbols by space in text. substitute the matched string in REPLACE_BY_SPACE_RE with space.\n",
    "    text = REPLACE_BY_SPACE_RE.sub(' ', text)\n",
    "    # remove symbols which are in BAD_SYMBOLS_RE from text. substitute the matched string in BAD_SYMBOLS_RE with nothing.\n",
    "    text = BAD_SYMBOLS_RE.sub('', text) \n",
    "    \n",
    "    text = text.replace('x', '')\n",
    "    \n",
    "    text = ' '.join(word for word in text.split() if word not in STOPWORDS) # remove stopwords from text\n",
    "    return text\n",
    "df['consumer_complaint'] = df['consumer_complaint'].apply(clean_text)\n",
    "df['consumer_complaint'] = df['consumer_complaint'].str.replace('\\d+', '')\n",
    "df.head()"
   ]
  },
  {
   "cell_type": "code",
   "execution_count": 7,
   "metadata": {},
   "outputs": [
    {
     "name": "stdout",
     "output_type": "stream",
     "text": [
      "example 1:\n",
      "disappointed cfpb help resolve fraudulant loan # ff aka one west case # cfpb\n",
      "Product: Mortgage\n",
      "\n",
      "example 2:\n",
      "services listed credit reports someone owe money true never done business agency owe money claim representing lived almost year always paid rent time fulfilled obligations lease gave notice decided move owe money never refunded security deposit\n",
      "Product: Credit reporting\n"
     ]
    }
   ],
   "source": [
    "print('example 1:')\n",
    "print_plot(10)\n",
    "\n",
    "print()\n",
    "\n",
    "print('example 2:')\n",
    "print_plot(1000)"
   ]
  },
  {
   "cell_type": "code",
   "execution_count": 8,
   "metadata": {},
   "outputs": [
    {
     "name": "stderr",
     "output_type": "stream",
     "text": [
      "Using TensorFlow backend.\n"
     ]
    },
    {
     "name": "stdout",
     "output_type": "stream",
     "text": [
      "Found 56802 unique tokens.\n"
     ]
    }
   ],
   "source": [
    "from keras.preprocessing.text import Tokenizer\n",
    "\n",
    "# The maximum number of words to be used. (most frequent)\n",
    "MAX_NB_WORDS = 50000\n",
    "# Max number of words in each complaint.\n",
    "MAX_SEQUENCE_LENGTH = 250\n",
    "# This is fixed.\n",
    "EMBEDDING_DIM = 100\n",
    "tokenizer = Tokenizer(num_words=MAX_NB_WORDS, filters='!\"#$%&()*+,-./:;<=>?@[\\]^_`{|}~', lower=True)\n",
    "tokenizer.fit_on_texts(df['consumer_complaint'].values)\n",
    "word_index = tokenizer.word_index\n",
    "print('Found %s unique tokens.' % len(word_index))"
   ]
  },
  {
   "cell_type": "code",
   "execution_count": 9,
   "metadata": {},
   "outputs": [
    {
     "name": "stdout",
     "output_type": "stream",
     "text": [
      "Shape of data tensor: (66806, 250)\n"
     ]
    }
   ],
   "source": [
    "from keras.preprocessing.sequence import pad_sequences\n",
    "\n",
    "X = tokenizer.texts_to_sequences(df['consumer_complaint'].values)\n",
    "X = pad_sequences(X, maxlen=MAX_SEQUENCE_LENGTH)\n",
    "print('Shape of data tensor:', X.shape)"
   ]
  },
  {
   "cell_type": "code",
   "execution_count": 10,
   "metadata": {},
   "outputs": [
    {
     "name": "stdout",
     "output_type": "stream",
     "text": [
      "Shape of label tensor: (66806, 11)\n"
     ]
    }
   ],
   "source": [
    "Y = pd.get_dummies(df['Product']).values\n",
    "print('Shape of label tensor:', Y.shape)"
   ]
  },
  {
   "cell_type": "code",
   "execution_count": 11,
   "metadata": {},
   "outputs": [
    {
     "name": "stdout",
     "output_type": "stream",
     "text": [
      "shape of train set (40083, 250) (40083, 11)\n",
      "shape of test set (26723, 250) (26723, 11)\n"
     ]
    }
   ],
   "source": [
    "from sklearn.model_selection import train_test_split\n",
    "\n",
    "X_train, X_test, Y_train, Y_test = train_test_split(X, Y, test_size = 0.40, random_state = 42)\n",
    "print(\"shape of train set\", X_train.shape, Y_train.shape)\n",
    "print(\"shape of test set\",X_test.shape, Y_test.shape)"
   ]
  },
  {
   "cell_type": "code",
   "execution_count": 12,
   "metadata": {},
   "outputs": [],
   "source": [
    "from keras.models import Sequential\n",
    "\n",
    "from keras.layers import LSTM\n",
    "from keras.layers import Dense\n",
    "from keras.layers import Dropout\n",
    "from keras.layers import SpatialDropout1D\n",
    "from keras.layers import Embedding\n",
    "\n",
    "from keras.preprocessing.text import Tokenizer\n",
    "\n",
    "from keras.utils.np_utils import to_categorical\n",
    "from keras.callbacks import EarlyStopping"
   ]
  },
  {
   "cell_type": "code",
   "execution_count": 13,
   "metadata": {},
   "outputs": [],
   "source": [
    "model = Sequential()\n",
    "\n",
    "\n",
    "model.add(Embedding(MAX_NB_WORDS, EMBEDDING_DIM, input_length = X.shape[1]))\n",
    "\n",
    "model.add(SpatialDropout1D(0.5))\n",
    "\n",
    "model.add(LSTM(20, dropout = 0.5, recurrent_dropout = 0.5))\n",
    "\n",
    "model.add(Dense(11, activation = 'softmax'))\n",
    "\n",
    "\n",
    "model.compile(optimizer = 'adam', loss = 'categorical_crossentropy', metrics = ['accuracy'])"
   ]
  },
  {
   "cell_type": "code",
   "execution_count": 14,
   "metadata": {},
   "outputs": [
    {
     "name": "stderr",
     "output_type": "stream",
     "text": [
      "C:\\Users\\acchu\\Anaconda3\\lib\\site-packages\\tensorflow_core\\python\\framework\\indexed_slices.py:424: UserWarning: Converting sparse IndexedSlices to a dense Tensor of unknown shape. This may consume a large amount of memory.\n",
      "  \"Converting sparse IndexedSlices to a dense Tensor of unknown shape. \"\n"
     ]
    },
    {
     "name": "stdout",
     "output_type": "stream",
     "text": [
      "Train on 36074 samples, validate on 4009 samples\n",
      "Epoch 1/4\n",
      "36074/36074 [==============================] - 248s 7ms/step - loss: 1.5731 - accuracy: 0.4642 - val_loss: 1.0380 - val_accuracy: 0.6877\n",
      "Epoch 2/4\n",
      "36074/36074 [==============================] - 244s 7ms/step - loss: 1.0771 - accuracy: 0.6636 - val_loss: 0.8738 - val_accuracy: 0.7284\n",
      "Epoch 3/4\n",
      "36074/36074 [==============================] - 258s 7ms/step - loss: 0.8900 - accuracy: 0.7258 - val_loss: 0.7398 - val_accuracy: 0.7787\n",
      "Epoch 4/4\n",
      "36074/36074 [==============================] - 262s 7ms/step - loss: 0.7669 - accuracy: 0.7661 - val_loss: 0.6522 - val_accuracy: 0.8057\n"
     ]
    }
   ],
   "source": [
    "history = model.fit(\n",
    "    X_train, \n",
    "    Y_train, \n",
    "    epochs = 4, \n",
    "    validation_split = 0.1,\n",
    "    callbacks = [EarlyStopping(monitor='val_loss', patience=3, min_delta=0.0001)]\n",
    ")"
   ]
  },
  {
   "cell_type": "code",
   "execution_count": 15,
   "metadata": {},
   "outputs": [
    {
     "name": "stdout",
     "output_type": "stream",
     "text": [
      "26723/26723 [==============================] - 30s 1ms/step\n",
      "Test set\n",
      "  Loss: 0.669\n",
      "  Accuracy: 0.800\n"
     ]
    }
   ],
   "source": [
    "accr = model.evaluate(X_test,Y_test)\n",
    "print('Test set\\n  Loss: {:0.3f}\\n  Accuracy: {:0.3f}'.format(accr[0],accr[1]))"
   ]
  },
  {
   "cell_type": "code",
   "execution_count": 16,
   "metadata": {},
   "outputs": [],
   "source": [
    "acc=history.history['accuracy']\n",
    "val_acc=history.history['val_accuracy']\n",
    "loss=history.history['loss']\n",
    "val_loss=history.history['val_loss']"
   ]
  },
  {
   "cell_type": "code",
   "execution_count": 17,
   "metadata": {},
   "outputs": [
    {
     "data": {
      "image/png": "[encoded data removed]",
      "text/plain": [
       "<Figure size 432x288 with 1 Axes>"
      ]
     },
     "metadata": {
      "needs_background": "light"
     },
     "output_type": "display_data"
    }
   ],
   "source": [
    "plt.title('Accuracy Curve')\n",
    "plt.xlabel('Epochs')\n",
    "plt.ylabel('Accuracy')\n",
    "plt.plot(range(len(acc)),acc, label='train')\n",
    "plt.plot(range(len(val_acc)),val_acc, label='test')\n",
    "plt.legend()\n",
    "plt.show()"
   ]
  },
  {
   "cell_type": "code",
   "execution_count": 18,
   "metadata": {},
   "outputs": [
    {
     "data": {
      "image/png": "[encoded data removed]",
      "text/plain": [
       "<Figure size 432x288 with 1 Axes>"
      ]
     },
     "metadata": {
      "needs_background": "light"
     },
     "output_type": "display_data"
    }
   ],
   "source": [
    "plt.title('Loss Curve')\n",
    "plt.xlabel('Epochs')\n",
    "plt.ylabel('Loss')\n",
    "plt.plot(range(len(loss)),loss, label='train')\n",
    "plt.plot(range(len(val_loss)),val_loss, label='test')\n",
    "plt.legend()\n",
    "plt.show()"
   ]
  },
  {
   "cell_type": "code",
   "execution_count": 31,
   "metadata": {},
   "outputs": [
    {
     "name": "stdout",
     "output_type": "stream",
     "text": [
      "probability of the complaint belonging to each of the labels\n",
      "Credit reporting, credit repair services, or other personal consumer reports \n",
      " 0.012561994\n",
      "\n",
      "Debt collection \n",
      " 0.01281668\n",
      "\n",
      "Mortgage \n",
      " 0.33741555\n",
      "\n",
      "Credit card or prepaid card \n",
      " 0.6079614\n",
      "\n",
      "Student loan \n",
      " 0.015570393\n",
      "\n",
      "Bank account or service \n",
      " 0.00066224363\n",
      "\n",
      "Checking or savings account \n",
      " 0.0073654065\n",
      "\n",
      "Consumer Loan \n",
      " 0.00014815274\n",
      "\n",
      "Payday loan, title loan, or personal loan \n",
      " 0.000656344\n",
      "\n",
      "Vehicle loan or lease \n",
      " 0.003907243\n",
      "\n",
      "Money transfer, virtual currency, or money service \n",
      " 0.0009345992\n",
      "\n"
     ]
    }
   ],
   "source": [
    "new_complaint = [\n",
    "    'This letter is to dispute an incorrectly charged amount on my visa credit card.'\n",
    "]\n",
    "\n",
    "seq = tokenizer.texts_to_sequences(new_complaint)\n",
    "padded = pad_sequences(seq, maxlen=MAX_SEQUENCE_LENGTH)\n",
    "\n",
    "pred = model.predict(padded)\n",
    "\n",
    "labels = [\n",
    "    'Credit reporting, credit repair services, or other personal consumer reports', \n",
    "    'Debt collection', \n",
    "    'Mortgage', \n",
    "    'Credit card or prepaid card', \n",
    "    'Student loan', \n",
    "    'Bank account or service', \n",
    "    'Checking or savings account', \n",
    "    'Consumer Loan', \n",
    "    'Payday loan, title loan, or personal loan', \n",
    "    'Vehicle loan or lease', \n",
    "    'Money transfer, virtual currency, or money service', \n",
    "    'Money transfers', \n",
    "    'Prepaid card'\n",
    "]\n",
    "\n",
    "print(\"probability of the complaint belonging to each of the labels\")\n",
    "\n",
    "for i in range(len(pred[0])):\n",
    "    print(labels[i],\"\\n\",pred[0][i])\n",
    "    print()"
   ]
  },
  {
   "cell_type": "code",
   "execution_count": 20,
   "metadata": {},
   "outputs": [
    {
     "name": "stdout",
     "output_type": "stream",
     "text": [
      "Predicted Label: Mortgage\n"
     ]
    }
   ],
   "source": [
    "print(\"Predicted Label:\",labels[np.argmax(pred)])"
   ]
  },
  {
   "cell_type": "code",
   "execution_count": 21,
   "metadata": {},
   "outputs": [],
   "source": [
    "from sklearn.metrics import confusion_matrix, classification_report"
   ]
  },
  {
   "cell_type": "code",
   "execution_count": 22,
   "metadata": {},
   "outputs": [],
   "source": [
    "ypred = model.predict(X_test)"
   ]
  },
  {
   "cell_type": "code",
   "execution_count": 23,
   "metadata": {},
   "outputs": [],
   "source": [
    "ypred = np.argmax(ypred, axis=1)\n",
    "Y_test = np.argmax(Y_test, axis=1)"
   ]
  },
  {
   "cell_type": "code",
   "execution_count": 24,
   "metadata": {},
   "outputs": [
    {
     "name": "stdout",
     "output_type": "stream",
     "text": [
      "Confusion matrix:\n",
      "\n",
      "[[1807   22  244   50  109    0   92    0    0    1    7]\n",
      " [  69  490   99  123  381    0  107    0    0    0  170]\n",
      " [ 198   41 2538  173  265    0   49    0    0    0    4]\n",
      " [  19   47  112 4175  486    0  113    0    0    0   11]\n",
      " [  49   77  119  404 6160    0  125    0    0    1   44]\n",
      " [ 203    6   14    4   31    0    8    0    0    1    2]\n",
      " [  30   43   29   81   73    0 5666    0    0    0   35]\n",
      " [  18    2    4    2   14    0    3    0    0    0    2]\n",
      " [  30   62    2    8  132    0    5    0    0    0   56]\n",
      " [ 204    6  113    1    9    0    0    0    0    5    1]\n",
      " [  15  155    6   19   90    0   27    0    0    0  525]]\n"
     ]
    }
   ],
   "source": [
    "print(\"Confusion matrix:\\n\")\n",
    "print(confusion_matrix(Y_test, ypred))"
   ]
  },
  {
   "cell_type": "code",
   "execution_count": 25,
   "metadata": {},
   "outputs": [
    {
     "name": "stdout",
     "output_type": "stream",
     "text": [
      "Clasification report:\n",
      "\n",
      "              precision    recall  f1-score   support\n",
      "\n",
      "           0       0.68      0.77      0.73      2332\n",
      "           1       0.52      0.34      0.41      1439\n",
      "           2       0.77      0.78      0.78      3268\n",
      "           3       0.83      0.84      0.83      4963\n",
      "           4       0.79      0.88      0.84      6979\n",
      "           5       0.00      0.00      0.00       269\n",
      "           6       0.91      0.95      0.93      5957\n",
      "           7       0.00      0.00      0.00        45\n",
      "           8       0.00      0.00      0.00       295\n",
      "           9       0.62      0.01      0.03       339\n",
      "          10       0.61      0.63      0.62       837\n",
      "\n",
      "    accuracy                           0.80     26723\n",
      "   macro avg       0.52      0.47      0.47     26723\n",
      "weighted avg       0.77      0.80      0.78     26723\n",
      "\n"
     ]
    },
    {
     "name": "stderr",
     "output_type": "stream",
     "text": [
      "C:\\Users\\acchu\\Anaconda3\\lib\\site-packages\\sklearn\\metrics\\classification.py:1437: UndefinedMetricWarning: Precision and F-score are ill-defined and being set to 0.0 in labels with no predicted samples.\n",
      "  'precision', 'predicted', average, warn_for)\n"
     ]
    }
   ],
   "source": [
    "print(\"Clasification report:\\n\")\n",
    "print(classification_report(Y_test, ypred))"
   ]
  }
 ],
 "metadata": {
  "kernelspec": {
   "display_name": "Python 3",
   "language": "python",
   "name": "python3"
  },
  "language_info": {
   "codemirror_mode": {
    "name": "ipython",
    "version": 3
   },
   "file_extension": ".py",
   "mimetype": "text/x-python",
   "name": "python",
   "nbconvert_exporter": "python",
   "pygments_lexer": "ipython3",
   "version": "3.7.4"
  }
 },
 "nbformat": 4,
 "nbformat_minor": 2
}
