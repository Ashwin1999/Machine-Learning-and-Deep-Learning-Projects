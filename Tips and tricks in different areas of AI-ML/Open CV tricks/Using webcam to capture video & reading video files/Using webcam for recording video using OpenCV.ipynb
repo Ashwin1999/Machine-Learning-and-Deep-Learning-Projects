{
 "cells": [
  {
   "cell_type": "markdown",
   "metadata": {},
   "source": [
    "# Recording from Web Camera"
   ]
  },
  {
   "cell_type": "code",
   "execution_count": 1,
   "metadata": {},
   "outputs": [],
   "source": [
    "import cv2\n",
    "\n",
    "cap = cv2.VideoCapture(0)\n",
    "wnh = (int(cap.get(cv2.CAP_PROP_FRAME_WIDTH)), int(cap.get(cv2.CAP_PROP_FRAME_HEIGHT)))\n",
    "\n",
    "\n",
    "\"\"\"\n",
    "videoWriter - for saving image\n",
    "codec for windows is DIVX.\n",
    "if your a mac or ubuntu user use XVID\n",
    "\"\"\"\n",
    "fps=int(30)\n",
    "\n",
    "writer0 = cv2.VideoWriter(f'recorded0.mp4', cv2.VideoWriter_fourcc(*'DIVX'), fps, wnh)\n",
    "writer1 = cv2.VideoWriter(f'recorded1.mp4', cv2.VideoWriter_fourcc(*'DIVX'), fps, wnh)\n",
    "\n",
    "while True:\n",
    "    ret, frame = cap.read()\n",
    "    \n",
    "    frame1 = cv2.cvtColor(frame, cv2.COLOR_BGR2RGB)\n",
    "        \n",
    "    writer0.write(frame)\n",
    "    writer1.write(frame1)\n",
    "    \n",
    "    cv2.imshow('BGR Frame',frame)\n",
    "    cv2.imshow('RGB Frame',frame1)\n",
    "    \n",
    "    # if you want to quit, press 'q'\n",
    "    if cv2.waitKey(1) & 0xFF==ord('q'):\n",
    "        break\n",
    "\n",
    "cap.release()\n",
    "writer0.release()\n",
    "writer1.release()\n",
    "cv2.destroyAllWindows()"
   ]
  },
  {
   "cell_type": "code",
   "execution_count": null,
   "metadata": {},
   "outputs": [],
   "source": []
  }
 ],
 "metadata": {
  "kernelspec": {
   "display_name": "Python 3",
   "language": "python",
   "name": "python3"
  },
  "language_info": {
   "codemirror_mode": {
    "name": "ipython",
    "version": 3
   },
   "file_extension": ".py",
   "mimetype": "text/x-python",
   "name": "python",
   "nbconvert_exporter": "python",
   "pygments_lexer": "ipython3",
   "version": "3.7.9"
  }
 },
 "nbformat": 4,
 "nbformat_minor": 4
}
