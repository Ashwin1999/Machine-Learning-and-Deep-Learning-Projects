{
  "nbformat": 4,
  "nbformat_minor": 0,
  "metadata": {
    "kernelspec": {
      "display_name": "Python 3",
      "language": "python",
      "name": "python3"
    },
    "language_info": {
      "codemirror_mode": {
        "name": "ipython",
        "version": 3
      },
      "file_extension": ".py",
      "mimetype": "text/x-python",
      "name": "python",
      "nbconvert_exporter": "python",
      "pygments_lexer": "ipython3",
      "version": "3.7.9"
    },
    "toc": {
      "base_numbering": 1,
      "nav_menu": {},
      "number_sections": false,
      "sideBar": true,
      "skip_h1_title": false,
      "title_cell": "Table of Contents",
      "title_sidebar": "Contents",
      "toc_cell": false,
      "toc_position": {},
      "toc_section_display": true,
      "toc_window_display": false
    },
    "colab": {
      "name": "LDA on Wikipedia Movie Plot.ipynb",
      "provenance": [],
      "collapsed_sections": [],
      "include_colab_link": true
    }
  },
  "cells": [
    {
      "cell_type": "markdown",
      "metadata": {
        "id": "view-in-github",
        "colab_type": "text"
      },
      "source": [
        "<a href=\"https://colab.research.google.com/github/Ashwin1999/NLP-project---LDA/blob/main/LDA_on_Wikipedia_Movie_Plot.ipynb\" target=\"_parent\"><img src=\"https://colab.research.google.com/assets/colab-badge.svg\" alt=\"Open In Colab\"/></a>"
      ]
    },
    {
      "cell_type": "code",
      "metadata": {
        "id": "_cVLqX0LYssE"
      },
      "source": [
        "import numpy as np\n",
        "import pandas as pd\n",
        "import matplotlib.pyplot as plt"
      ],
      "execution_count": null,
      "outputs": []
    },
    {
      "cell_type": "code",
      "metadata": {
        "id": "BT6Xwax-YssI",
        "outputId": "2de0ce51-da32-478d-9002-b0860fcc26d6",
        "colab": {
          "base_uri": "https://localhost:8080/",
          "height": 195
        }
      },
      "source": [
        "df = pd.read_csv('https://raw.githubusercontent.com/Ashwin1999/NLP-project---LDA/main/Datasets/Movie%20Plots.csv')\n",
        "\n",
        "# Sinc the dataset has around 34890 rows, it'll take too long to fit the LDA model. So due to that reason only 5000 rows(taken at random) will be used.\n",
        "df = df.iloc[np.random.randint(0, 34892, size=5000), :-1]\n",
        "df.head()"
      ],
      "execution_count": null,
      "outputs": [
        {
          "output_type": "execute_result",
          "data": {
            "text/html": [
              "<div>\n",
              "<style scoped>\n",
              "    .dataframe tbody tr th:only-of-type {\n",
              "        vertical-align: middle;\n",
              "    }\n",
              "\n",
              "    .dataframe tbody tr th {\n",
              "        vertical-align: top;\n",
              "    }\n",
              "\n",
              "    .dataframe thead th {\n",
              "        text-align: right;\n",
              "    }\n",
              "</style>\n",
              "<table border=\"1\" class=\"dataframe\">\n",
              "  <thead>\n",
              "    <tr style=\"text-align: right;\">\n",
              "      <th></th>\n",
              "      <th>Title</th>\n",
              "      <th>Plot</th>\n",
              "    </tr>\n",
              "  </thead>\n",
              "  <tbody>\n",
              "    <tr>\n",
              "      <th>21970</th>\n",
              "      <td>My Dog Vincent</td>\n",
              "      <td>The film is centered on O'Brien (played by Chu...</td>\n",
              "    </tr>\n",
              "    <tr>\n",
              "      <th>15260</th>\n",
              "      <td>The Last Sin Eater</td>\n",
              "      <td>The Last Sin Eater is a story that takes place...</td>\n",
              "    </tr>\n",
              "    <tr>\n",
              "      <th>29523</th>\n",
              "      <td>Naalai Namadhe</td>\n",
              "      <td>Separated by Ranjith (M. N. Nambiar), a killer...</td>\n",
              "    </tr>\n",
              "    <tr>\n",
              "      <th>8033</th>\n",
              "      <td>The Third Day</td>\n",
              "      <td>Steve Mallory has been involved in a car crash...</td>\n",
              "    </tr>\n",
              "    <tr>\n",
              "      <th>31446</th>\n",
              "      <td>Pa Paandi</td>\n",
              "      <td>Power Paandi (Rajkiran), an ex-stuntmaster in ...</td>\n",
              "    </tr>\n",
              "  </tbody>\n",
              "</table>\n",
              "</div>"
            ],
            "text/plain": [
              "                    Title                                               Plot\n",
              "21970      My Dog Vincent  The film is centered on O'Brien (played by Chu...\n",
              "15260  The Last Sin Eater  The Last Sin Eater is a story that takes place...\n",
              "29523      Naalai Namadhe  Separated by Ranjith (M. N. Nambiar), a killer...\n",
              "8033        The Third Day  Steve Mallory has been involved in a car crash...\n",
              "31446           Pa Paandi  Power Paandi (Rajkiran), an ex-stuntmaster in ..."
            ]
          },
          "metadata": {
            "tags": []
          },
          "execution_count": 2
        }
      ]
    },
    {
      "cell_type": "code",
      "metadata": {
        "id": "lKYAvbB-YssO",
        "outputId": "e26d8a27-4fed-409d-fffd-cd90034d3480",
        "colab": {
          "base_uri": "https://localhost:8080/"
        }
      },
      "source": [
        "df.isna().sum()"
      ],
      "execution_count": null,
      "outputs": [
        {
          "output_type": "execute_result",
          "data": {
            "text/plain": [
              "Title    0\n",
              "Plot     0\n",
              "dtype: int64"
            ]
          },
          "metadata": {
            "tags": []
          },
          "execution_count": 3
        }
      ]
    },
    {
      "cell_type": "code",
      "metadata": {
        "id": "VI99pZw-YssR",
        "outputId": "61862b61-b213-44a1-816c-1ece86255090",
        "colab": {
          "base_uri": "https://localhost:8080/"
        }
      },
      "source": [
        "df.dropna(inplace=True)\n",
        "df.isna().sum()"
      ],
      "execution_count": null,
      "outputs": [
        {
          "output_type": "execute_result",
          "data": {
            "text/plain": [
              "Title    0\n",
              "Plot     0\n",
              "dtype: int64"
            ]
          },
          "metadata": {
            "tags": []
          },
          "execution_count": 4
        }
      ]
    },
    {
      "cell_type": "code",
      "metadata": {
        "id": "WaVkA9HMYssU"
      },
      "source": [
        "from sklearn.feature_extraction.text import CountVectorizer"
      ],
      "execution_count": null,
      "outputs": []
    },
    {
      "cell_type": "code",
      "metadata": {
        "id": "7HM6G1baYssW"
      },
      "source": [
        "cv = CountVectorizer(max_df=0.92, min_df=3, stop_words='english')"
      ],
      "execution_count": null,
      "outputs": []
    },
    {
      "cell_type": "code",
      "metadata": {
        "id": "zP5fskrVYssa"
      },
      "source": [
        "dtm = cv.fit_transform(df['Plot'])"
      ],
      "execution_count": null,
      "outputs": []
    },
    {
      "cell_type": "code",
      "metadata": {
        "id": "YSc7HlbOYssc",
        "outputId": "51c6744e-71d6-46a3-f325-8474d69500a6",
        "colab": {
          "base_uri": "https://localhost:8080/"
        }
      },
      "source": [
        "dtm"
      ],
      "execution_count": null,
      "outputs": [
        {
          "output_type": "execute_result",
          "data": {
            "text/plain": [
              "<5000x21503 sparse matrix of type '<class 'numpy.int64'>'\n",
              "\twith 636223 stored elements in Compressed Sparse Row format>"
            ]
          },
          "metadata": {
            "tags": []
          },
          "execution_count": 8
        }
      ]
    },
    {
      "cell_type": "code",
      "metadata": {
        "id": "29tXYvE4Ysse"
      },
      "source": [
        "from sklearn.decomposition import LatentDirichletAllocation"
      ],
      "execution_count": null,
      "outputs": []
    },
    {
      "cell_type": "code",
      "metadata": {
        "id": "-NvSKGX2Yssh"
      },
      "source": [
        "number_of_topics=6\n",
        "LDA = LatentDirichletAllocation(n_components=number_of_topics)"
      ],
      "execution_count": null,
      "outputs": []
    },
    {
      "cell_type": "code",
      "metadata": {
        "id": "byRmVwNzYssj",
        "outputId": "4415964f-22c7-4c30-e296-553a63c43d58",
        "colab": {
          "base_uri": "https://localhost:8080/"
        }
      },
      "source": [
        "# This will take some 2 mins to run...so wait\n",
        "LDA.fit(dtm)"
      ],
      "execution_count": null,
      "outputs": [
        {
          "output_type": "execute_result",
          "data": {
            "text/plain": [
              "LatentDirichletAllocation(batch_size=128, doc_topic_prior=None,\n",
              "                          evaluate_every=-1, learning_decay=0.7,\n",
              "                          learning_method='batch', learning_offset=10.0,\n",
              "                          max_doc_update_iter=100, max_iter=10,\n",
              "                          mean_change_tol=0.001, n_components=6, n_jobs=None,\n",
              "                          perp_tol=0.1, random_state=None,\n",
              "                          topic_word_prior=None, total_samples=1000000.0,\n",
              "                          verbose=0)"
            ]
          },
          "metadata": {
            "tags": []
          },
          "execution_count": 11
        }
      ]
    },
    {
      "cell_type": "code",
      "metadata": {
        "id": "DuHvekRSYssl",
        "outputId": "6e274991-6eb5-4942-ac1a-5f5e1f03bcaf",
        "colab": {
          "base_uri": "https://localhost:8080/",
          "height": 35
        }
      },
      "source": [
        "cv.get_feature_names()[2000]"
      ],
      "execution_count": null,
      "outputs": [
        {
          "output_type": "execute_result",
          "data": {
            "application/vnd.google.colaboratory.intrinsic+json": {
              "type": "string"
            },
            "text/plain": [
              "'belated'"
            ]
          },
          "metadata": {
            "tags": []
          },
          "execution_count": 12
        }
      ]
    },
    {
      "cell_type": "code",
      "metadata": {
        "id": "hUCamQpoYsso",
        "outputId": "7c164537-643f-4161-8ada-0714b4597a3c",
        "colab": {
          "base_uri": "https://localhost:8080/"
        }
      },
      "source": [
        "len(LDA.components_)"
      ],
      "execution_count": null,
      "outputs": [
        {
          "output_type": "execute_result",
          "data": {
            "text/plain": [
              "6"
            ]
          },
          "metadata": {
            "tags": []
          },
          "execution_count": 13
        }
      ]
    },
    {
      "cell_type": "code",
      "metadata": {
        "id": "MzcqrSmaYssq",
        "outputId": "4bd6365f-19b0-4a72-e3b5-7ed5722899d7",
        "colab": {
          "base_uri": "https://localhost:8080/"
        }
      },
      "source": [
        "LDA.components_.shape"
      ],
      "execution_count": null,
      "outputs": [
        {
          "output_type": "execute_result",
          "data": {
            "text/plain": [
              "(6, 21503)"
            ]
          },
          "metadata": {
            "tags": []
          },
          "execution_count": 14
        }
      ]
    },
    {
      "cell_type": "code",
      "metadata": {
        "id": "J8W0rbpdYsss",
        "outputId": "42001b6a-0b20-4e93-eaab-c891ede812d9",
        "colab": {
          "base_uri": "https://localhost:8080/"
        }
      },
      "source": [
        "def findTopic(i, topic):\n",
        "    topic_name = list()\n",
        "    for t in topic:\n",
        "        topic_name.append(cv.get_feature_names()[t])\n",
        "    return f\"Topic-{i}:\\t{topic_name}\\n\\n\"\n",
        "\n",
        "i=1\n",
        "for topic in LDA.components_:\n",
        "    topic = topic.argsort()[-15:] # get the indices of the top 15 words in each topic\n",
        "    print(findTopic(i, topic))\n",
        "    i+=1"
      ],
      "execution_count": null,
      "outputs": [
        {
          "output_type": "stream",
          "text": [
            "Topic-1:\t['father', 'away', 'jim', 'home', 'finds', 'gang', 'town', 'killed', 'later', 'new', 'tells', 'men', 'man', 'john', 'police']\n",
            "\n",
            "\n",
            "Topic-2:\t['comes', 'wife', 'tom', 'married', 'mother', 'day', 'marriage', 'house', 'gets', 'life', 'daughter', 'son', 'family', 'father', 'love']\n",
            "\n",
            "\n",
            "Topic-3:\t['help', 'later', 'son', 'away', 'death', 'night', 'finds', 'home', 'young', 'tells', 'house', 'mother', 'father', 'man', 'king']\n",
            "\n",
            "\n",
            "Topic-4:\t['woman', 'wife', 'tells', 'later', 'police', 'finds', 'home', 'love', 'house', 'man', 'time', 'paul', 'life', 'new', 'film']\n",
            "\n",
            "\n",
            "Topic-5:\t['goes', 'old', 'mother', 'later', 'school', 'life', 'money', 'day', 'family', 'house', 'time', 'home', 'father', 'tells', 'new']\n",
            "\n",
            "\n",
            "Topic-6:\t['death', 'group', 'kills', 'help', 'tells', 'dr', 'escape', 'time', 'jack', 'kill', 'new', 'later', 'police', 'killed', 'ship']\n",
            "\n",
            "\n"
          ],
          "name": "stdout"
        }
      ]
    },
    {
      "cell_type": "code",
      "metadata": {
        "id": "XM3wIGL9Yssv",
        "outputId": "5fa6b7e9-9c43-4867-a7dd-26d4befea44c",
        "colab": {
          "base_uri": "https://localhost:8080/"
        }
      },
      "source": [
        "topic_results = LDA.transform(dtm)\n",
        "topic_results.shape"
      ],
      "execution_count": null,
      "outputs": [
        {
          "output_type": "execute_result",
          "data": {
            "text/plain": [
              "(5000, 6)"
            ]
          },
          "metadata": {
            "tags": []
          },
          "execution_count": 16
        }
      ]
    },
    {
      "cell_type": "code",
      "metadata": {
        "id": "vbVFXyHnYss1"
      },
      "source": [
        "topics_pred = [\n",
        "    \"Genre-1\",\n",
        "    \"Genre-2\",\n",
        "    \"Genre-3\",\n",
        "    \"Genre-4\",\n",
        "    \"Genre-5\",\n",
        "    \"Genre-6\",\n",
        "]"
      ],
      "execution_count": null,
      "outputs": []
    },
    {
      "cell_type": "code",
      "metadata": {
        "id": "QSxmkc9kYss5",
        "outputId": "62299d71-c816-40cf-ac47-7f7844ad2400",
        "colab": {
          "base_uri": "https://localhost:8080/"
        }
      },
      "source": [
        "topic_index = topic_results.argmax(axis=1)\n",
        "topic_index[:10]"
      ],
      "execution_count": null,
      "outputs": [
        {
          "output_type": "execute_result",
          "data": {
            "text/plain": [
              "array([3, 2, 1, 0, 1, 1, 5, 0, 0, 1])"
            ]
          },
          "metadata": {
            "tags": []
          },
          "execution_count": 18
        }
      ]
    },
    {
      "cell_type": "code",
      "metadata": {
        "id": "H-FgbrRoYss8",
        "outputId": "51ee67c9-b996-4cd4-f555-14b9ed7f8c06",
        "colab": {
          "base_uri": "https://localhost:8080/"
        }
      },
      "source": [
        "pred = np.array([topics_pred[ind] for ind in topic_index])\n",
        "pred"
      ],
      "execution_count": null,
      "outputs": [
        {
          "output_type": "execute_result",
          "data": {
            "text/plain": [
              "array(['Genre-4', 'Genre-3', 'Genre-2', ..., 'Genre-1', 'Genre-2',\n",
              "       'Genre-5'], dtype='<U7')"
            ]
          },
          "metadata": {
            "tags": []
          },
          "execution_count": 19
        }
      ]
    },
    {
      "cell_type": "code",
      "metadata": {
        "id": "FUK2G1X-Yss-"
      },
      "source": [
        "df[\"Predicted Topics\"] = pred"
      ],
      "execution_count": null,
      "outputs": []
    },
    {
      "cell_type": "code",
      "metadata": {
        "id": "oQUyApysYstA",
        "outputId": "8c70474b-5203-4d59-ab82-87315df1dc5d",
        "colab": {
          "base_uri": "https://localhost:8080/",
          "height": 195
        }
      },
      "source": [
        "df.head()"
      ],
      "execution_count": null,
      "outputs": [
        {
          "output_type": "execute_result",
          "data": {
            "text/html": [
              "<div>\n",
              "<style scoped>\n",
              "    .dataframe tbody tr th:only-of-type {\n",
              "        vertical-align: middle;\n",
              "    }\n",
              "\n",
              "    .dataframe tbody tr th {\n",
              "        vertical-align: top;\n",
              "    }\n",
              "\n",
              "    .dataframe thead th {\n",
              "        text-align: right;\n",
              "    }\n",
              "</style>\n",
              "<table border=\"1\" class=\"dataframe\">\n",
              "  <thead>\n",
              "    <tr style=\"text-align: right;\">\n",
              "      <th></th>\n",
              "      <th>Title</th>\n",
              "      <th>Plot</th>\n",
              "      <th>Predicted Topics</th>\n",
              "    </tr>\n",
              "  </thead>\n",
              "  <tbody>\n",
              "    <tr>\n",
              "      <th>21970</th>\n",
              "      <td>My Dog Vincent</td>\n",
              "      <td>The film is centered on O'Brien (played by Chu...</td>\n",
              "      <td>Genre-4</td>\n",
              "    </tr>\n",
              "    <tr>\n",
              "      <th>15260</th>\n",
              "      <td>The Last Sin Eater</td>\n",
              "      <td>The Last Sin Eater is a story that takes place...</td>\n",
              "      <td>Genre-3</td>\n",
              "    </tr>\n",
              "    <tr>\n",
              "      <th>29523</th>\n",
              "      <td>Naalai Namadhe</td>\n",
              "      <td>Separated by Ranjith (M. N. Nambiar), a killer...</td>\n",
              "      <td>Genre-2</td>\n",
              "    </tr>\n",
              "    <tr>\n",
              "      <th>8033</th>\n",
              "      <td>The Third Day</td>\n",
              "      <td>Steve Mallory has been involved in a car crash...</td>\n",
              "      <td>Genre-1</td>\n",
              "    </tr>\n",
              "    <tr>\n",
              "      <th>31446</th>\n",
              "      <td>Pa Paandi</td>\n",
              "      <td>Power Paandi (Rajkiran), an ex-stuntmaster in ...</td>\n",
              "      <td>Genre-2</td>\n",
              "    </tr>\n",
              "  </tbody>\n",
              "</table>\n",
              "</div>"
            ],
            "text/plain": [
              "                    Title  ... Predicted Topics\n",
              "21970      My Dog Vincent  ...          Genre-4\n",
              "15260  The Last Sin Eater  ...          Genre-3\n",
              "29523      Naalai Namadhe  ...          Genre-2\n",
              "8033        The Third Day  ...          Genre-1\n",
              "31446           Pa Paandi  ...          Genre-2\n",
              "\n",
              "[5 rows x 3 columns]"
            ]
          },
          "metadata": {
            "tags": []
          },
          "execution_count": 21
        }
      ]
    },
    {
      "cell_type": "code",
      "metadata": {
        "id": "0uuhTbjIYstD"
      },
      "source": [
        ""
      ],
      "execution_count": null,
      "outputs": []
    }
  ]
}