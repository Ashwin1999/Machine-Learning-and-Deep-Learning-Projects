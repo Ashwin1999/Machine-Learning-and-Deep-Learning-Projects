{
  "nbformat": 4,
  "nbformat_minor": 0,
  "metadata": {
    "kernelspec": {
      "display_name": "Python 3",
      "language": "python",
      "name": "python3"
    },
    "language_info": {
      "codemirror_mode": {
        "name": "ipython",
        "version": 3
      },
      "file_extension": ".py",
      "mimetype": "text/x-python",
      "name": "python",
      "nbconvert_exporter": "python",
      "pygments_lexer": "ipython3",
      "version": "3.7.9"
    },
    "toc": {
      "base_numbering": 1,
      "nav_menu": {},
      "number_sections": false,
      "sideBar": true,
      "skip_h1_title": false,
      "title_cell": "Table of Contents",
      "title_sidebar": "Contents",
      "toc_cell": false,
      "toc_position": {},
      "toc_section_display": true,
      "toc_window_display": false
    },
    "colab": {
      "name": "LDA on Amazon Product Review.ipynb",
      "provenance": [],
      "collapsed_sections": [],
      "include_colab_link": true
    }
  },
  "cells": [
    {
      "cell_type": "markdown",
      "metadata": {
        "id": "view-in-github",
        "colab_type": "text"
      },
      "source": [
        "<a href=\"https://colab.research.google.com/github/Ashwin1999/NLP-project---LDA/blob/main/LDA_on_Amazon_Product_Review.ipynb\" target=\"_parent\"><img src=\"https://colab.research.google.com/assets/colab-badge.svg\" alt=\"Open In Colab\"/></a>"
      ]
    },
    {
      "cell_type": "code",
      "metadata": {
        "id": "OVbz2vOGYzeS"
      },
      "source": [
        "import numpy as np\n",
        "import pandas as pd\n",
        "import matplotlib.pyplot as plt"
      ],
      "execution_count": null,
      "outputs": []
    },
    {
      "cell_type": "code",
      "metadata": {
        "id": "GGobc2NmYzeb",
        "outputId": "0e48a940-6b0a-4f9d-ab4a-6f2acb0a4749",
        "colab": {
          "base_uri": "https://localhost:8080/",
          "height": 195
        }
      },
      "source": [
        "df = pd.read_csv('https://raw.githubusercontent.com/Ashwin1999/NLP-project---LDA/main/Datasets/Amazon%20Product%20Reviews.csv')\n",
        "df = df.iloc[np.random.randint(0, 121943, size=2500), :]\n",
        "df.head()"
      ],
      "execution_count": null,
      "outputs": [
        {
          "output_type": "execute_result",
          "data": {
            "text/html": [
              "<div>\n",
              "<style scoped>\n",
              "    .dataframe tbody tr th:only-of-type {\n",
              "        vertical-align: middle;\n",
              "    }\n",
              "\n",
              "    .dataframe tbody tr th {\n",
              "        vertical-align: top;\n",
              "    }\n",
              "\n",
              "    .dataframe thead th {\n",
              "        text-align: right;\n",
              "    }\n",
              "</style>\n",
              "<table border=\"1\" class=\"dataframe\">\n",
              "  <thead>\n",
              "    <tr style=\"text-align: right;\">\n",
              "      <th></th>\n",
              "      <th>Reviews</th>\n",
              "    </tr>\n",
              "  </thead>\n",
              "  <tbody>\n",
              "    <tr>\n",
              "      <th>15670</th>\n",
              "      <td>Great case, genuine Palm accessorie in Verizon...</td>\n",
              "    </tr>\n",
              "    <tr>\n",
              "      <th>49913</th>\n",
              "      <td>Pros:  Works, both plugs holding up after a lo...</td>\n",
              "    </tr>\n",
              "    <tr>\n",
              "      <th>119973</th>\n",
              "      <td>I really wanted to love theJabra TAG Bluetooth...</td>\n",
              "    </tr>\n",
              "    <tr>\n",
              "      <th>8406</th>\n",
              "      <td>I ordered this so that I could plug in multipl...</td>\n",
              "    </tr>\n",
              "    <tr>\n",
              "      <th>83511</th>\n",
              "      <td>Very nice case, it feels great in hand and sli...</td>\n",
              "    </tr>\n",
              "  </tbody>\n",
              "</table>\n",
              "</div>"
            ],
            "text/plain": [
              "                                                  Reviews\n",
              "15670   Great case, genuine Palm accessorie in Verizon...\n",
              "49913   Pros:  Works, both plugs holding up after a lo...\n",
              "119973  I really wanted to love theJabra TAG Bluetooth...\n",
              "8406    I ordered this so that I could plug in multipl...\n",
              "83511   Very nice case, it feels great in hand and sli..."
            ]
          },
          "metadata": {
            "tags": []
          },
          "execution_count": 2
        }
      ]
    },
    {
      "cell_type": "code",
      "metadata": {
        "id": "SIiD-7TZinq2",
        "outputId": "32af6e2a-98e9-4c9d-8e43-51655cf668f0",
        "colab": {
          "base_uri": "https://localhost:8080/"
        }
      },
      "source": [
        "len(df)"
      ],
      "execution_count": null,
      "outputs": [
        {
          "output_type": "execute_result",
          "data": {
            "text/plain": [
              "2500"
            ]
          },
          "metadata": {
            "tags": []
          },
          "execution_count": 3
        }
      ]
    },
    {
      "cell_type": "code",
      "metadata": {
        "id": "EQxwCqlQYzeg",
        "outputId": "ce5fdcfc-7a4f-4e8e-dd2d-95549986d249",
        "colab": {
          "base_uri": "https://localhost:8080/"
        }
      },
      "source": [
        "df.isna().sum()"
      ],
      "execution_count": null,
      "outputs": [
        {
          "output_type": "execute_result",
          "data": {
            "text/plain": [
              "Reviews    1\n",
              "dtype: int64"
            ]
          },
          "metadata": {
            "tags": []
          },
          "execution_count": 4
        }
      ]
    },
    {
      "cell_type": "code",
      "metadata": {
        "id": "RHt0C8j9Yzej",
        "outputId": "787cd71b-aa23-4529-fee5-56a9d6ce2820",
        "colab": {
          "base_uri": "https://localhost:8080/"
        }
      },
      "source": [
        "(df.isna().sum()[0]/df.shape[0])*100"
      ],
      "execution_count": null,
      "outputs": [
        {
          "output_type": "execute_result",
          "data": {
            "text/plain": [
              "0.04"
            ]
          },
          "metadata": {
            "tags": []
          },
          "execution_count": 5
        }
      ]
    },
    {
      "cell_type": "code",
      "metadata": {
        "id": "i7fqJRJ7Yzem",
        "outputId": "1d8e667d-090f-4b9b-e0d1-a47425dfd780",
        "colab": {
          "base_uri": "https://localhost:8080/"
        }
      },
      "source": [
        "df.dropna(inplace=True)\n",
        "df.isna().sum()"
      ],
      "execution_count": null,
      "outputs": [
        {
          "output_type": "execute_result",
          "data": {
            "text/plain": [
              "Reviews    0\n",
              "dtype: int64"
            ]
          },
          "metadata": {
            "tags": []
          },
          "execution_count": 6
        }
      ]
    },
    {
      "cell_type": "code",
      "metadata": {
        "id": "9_mjC4cKYzep"
      },
      "source": [
        "from sklearn.feature_extraction.text import CountVectorizer"
      ],
      "execution_count": null,
      "outputs": []
    },
    {
      "cell_type": "code",
      "metadata": {
        "id": "WR3lmoIFYzer"
      },
      "source": [
        "cv = CountVectorizer(max_df=0.9, min_df=2, stop_words='english')"
      ],
      "execution_count": null,
      "outputs": []
    },
    {
      "cell_type": "code",
      "metadata": {
        "id": "RISf8X0XYzeu"
      },
      "source": [
        "dtm = cv.fit_transform(df['Reviews'])"
      ],
      "execution_count": null,
      "outputs": []
    },
    {
      "cell_type": "code",
      "metadata": {
        "id": "0YVM7cghYzex",
        "outputId": "43174c5f-32d0-49ac-db3b-e8667df3764d",
        "colab": {
          "base_uri": "https://localhost:8080/"
        }
      },
      "source": [
        "dtm"
      ],
      "execution_count": null,
      "outputs": [
        {
          "output_type": "execute_result",
          "data": {
            "text/plain": [
              "<2499x4680 sparse matrix of type '<class 'numpy.int64'>'\n",
              "\twith 74634 stored elements in Compressed Sparse Row format>"
            ]
          },
          "metadata": {
            "tags": []
          },
          "execution_count": 10
        }
      ]
    },
    {
      "cell_type": "code",
      "metadata": {
        "id": "4OV3xn9gYze0"
      },
      "source": [
        "from sklearn.decomposition import LatentDirichletAllocation"
      ],
      "execution_count": null,
      "outputs": []
    },
    {
      "cell_type": "code",
      "metadata": {
        "id": "y0IKzGlbYze2"
      },
      "source": [
        "ntopics=5\n",
        "LDA = LatentDirichletAllocation(n_components=ntopics)"
      ],
      "execution_count": null,
      "outputs": []
    },
    {
      "cell_type": "code",
      "metadata": {
        "id": "zWj60iCPYze4",
        "outputId": "26a4f90b-e05a-43c9-f162-2b44dbaefb98",
        "colab": {
          "base_uri": "https://localhost:8080/"
        }
      },
      "source": [
        "LDA.fit(dtm)"
      ],
      "execution_count": null,
      "outputs": [
        {
          "output_type": "execute_result",
          "data": {
            "text/plain": [
              "LatentDirichletAllocation(batch_size=128, doc_topic_prior=None,\n",
              "                          evaluate_every=-1, learning_decay=0.7,\n",
              "                          learning_method='batch', learning_offset=10.0,\n",
              "                          max_doc_update_iter=100, max_iter=10,\n",
              "                          mean_change_tol=0.001, n_components=5, n_jobs=None,\n",
              "                          perp_tol=0.1, random_state=None,\n",
              "                          topic_word_prior=None, total_samples=1000000.0,\n",
              "                          verbose=0)"
            ]
          },
          "metadata": {
            "tags": []
          },
          "execution_count": 13
        }
      ]
    },
    {
      "cell_type": "code",
      "metadata": {
        "id": "VKxXz7PWYze6",
        "outputId": "f86aeee4-c622-4140-dabc-26d82d2689c5",
        "colab": {
          "base_uri": "https://localhost:8080/",
          "height": 35
        }
      },
      "source": [
        "cv.get_feature_names()[2000]"
      ],
      "execution_count": null,
      "outputs": [
        {
          "output_type": "execute_result",
          "data": {
            "application/vnd.google.colaboratory.intrinsic+json": {
              "type": "string"
            },
            "text/plain": [
              "'holy'"
            ]
          },
          "metadata": {
            "tags": []
          },
          "execution_count": 14
        }
      ]
    },
    {
      "cell_type": "code",
      "metadata": {
        "id": "q7CC01E4Yze9",
        "outputId": "8c5c9fb6-73e9-4fe5-be94-89a48d711075",
        "colab": {
          "base_uri": "https://localhost:8080/"
        }
      },
      "source": [
        "len(LDA.components_)"
      ],
      "execution_count": null,
      "outputs": [
        {
          "output_type": "execute_result",
          "data": {
            "text/plain": [
              "5"
            ]
          },
          "metadata": {
            "tags": []
          },
          "execution_count": 15
        }
      ]
    },
    {
      "cell_type": "code",
      "metadata": {
        "id": "5kjkF9fHYzfA",
        "outputId": "08684908-dd49-4385-9b14-36141cea6c58",
        "colab": {
          "base_uri": "https://localhost:8080/"
        }
      },
      "source": [
        "LDA.components_.shape"
      ],
      "execution_count": null,
      "outputs": [
        {
          "output_type": "execute_result",
          "data": {
            "text/plain": [
              "(5, 4680)"
            ]
          },
          "metadata": {
            "tags": []
          },
          "execution_count": 16
        }
      ]
    },
    {
      "cell_type": "code",
      "metadata": {
        "id": "YX9nr3GwYzfE",
        "outputId": "6ee857ee-6b4d-4d7b-c1fa-7e7ec1de4532",
        "colab": {
          "base_uri": "https://localhost:8080/"
        }
      },
      "source": [
        "def findTopic(i, topic):\n",
        "    topic_name = list()\n",
        "    for t in topic:\n",
        "        topic_name.append(cv.get_feature_names()[t])\n",
        "    return f\"Topic-{i}:\\t{topic_name}\\n\\n\"\n",
        "\n",
        "i=1\n",
        "for topic in LDA.components_:\n",
        "    topic = topic.argsort()[-20:]\n",
        "    print(findTopic(i, topic))\n",
        "    i+=1"
      ],
      "execution_count": null,
      "outputs": [
        {
          "output_type": "stream",
          "text": [
            "Topic-1:\t['people', 'nexus', 'bluetooth', 'better', 'need', 'screen', 'really', 've', 'life', 'don', 'time', 'great', 'using', 'day', 'like', 'phones', 'just', 'use', 'battery', 'phone']\n",
            "\n",
            "\n",
            "Topic-2:\t['works', 'like', 'charged', 'time', 'just', 'great', 'port', 'ipad', 'iphone', 'use', 'phone', 'device', 'devices', 'power', 'cable', 'battery', 'charging', 'usb', 'charger', 'charge']\n",
            "\n",
            "\n",
            "Topic-3:\t['color', 'easy', 'little', 'cover', 'looks', 'fit', 'nice', 'really', 'protection', 'screen', 'fits', 'cases', 'just', 'love', 'great', 'iphone', 'good', 'like', 'phone', 'case']\n",
            "\n",
            "\n",
            "Topic-4:\t['recommend', 'used', 'buy', 'ear', 'cheap', 'battery', 'love', 'good', 'sound', 'just', 'like', 'headset', 'product', 'price', 'bluetooth', 'bought', 'time', 'phone', 'use', 'great']\n",
            "\n",
            "\n",
            "Topic-5:\t['love', 'work', 'iphone', 'use', 'good', 'quality', 'like', 'stylus', 'really', 'recommend', 'price', 'protectors', 'phone', 'just', 'easy', 'works', 'product', 'protector', 'great', 'screen']\n",
            "\n",
            "\n"
          ],
          "name": "stdout"
        }
      ]
    },
    {
      "cell_type": "code",
      "metadata": {
        "id": "ijF5QJcoYzfH",
        "outputId": "1e25ff5b-aabd-44ed-af73-c091096ff7c3",
        "colab": {
          "base_uri": "https://localhost:8080/"
        }
      },
      "source": [
        "topic_results = LDA.transform(dtm)\n",
        "topic_results.shape"
      ],
      "execution_count": null,
      "outputs": [
        {
          "output_type": "execute_result",
          "data": {
            "text/plain": [
              "(2499, 5)"
            ]
          },
          "metadata": {
            "tags": []
          },
          "execution_count": 18
        }
      ]
    },
    {
      "cell_type": "code",
      "metadata": {
        "id": "758S1cD7YzfJ"
      },
      "source": [
        "topics_pred = [\n",
        "    \"topic-1\",\n",
        "    \"topic-2\",\n",
        "    \"topic-3\",\n",
        "    \"topic-4\",\n",
        "    \"topic-5\",\n",
        "]"
      ],
      "execution_count": null,
      "outputs": []
    },
    {
      "cell_type": "code",
      "metadata": {
        "id": "CSfuA38XYzfL",
        "outputId": "b9728938-dc99-4d35-fe0c-1025740fccdb",
        "colab": {
          "base_uri": "https://localhost:8080/"
        }
      },
      "source": [
        "topic_index = topic_results.argmax(axis=1)\n",
        "topic_index[:10]"
      ],
      "execution_count": null,
      "outputs": [
        {
          "output_type": "execute_result",
          "data": {
            "text/plain": [
              "array([2, 1, 0, 1, 2, 2, 4, 1, 4, 2])"
            ]
          },
          "metadata": {
            "tags": []
          },
          "execution_count": 20
        }
      ]
    },
    {
      "cell_type": "code",
      "metadata": {
        "id": "HpJFhxWhYzfN",
        "outputId": "1af9b641-3b79-44e8-d1f3-dde94a7db448",
        "colab": {
          "base_uri": "https://localhost:8080/"
        }
      },
      "source": [
        "pred = np.array([topics_pred[ind] for ind in topic_index])\n",
        "pred"
      ],
      "execution_count": null,
      "outputs": [
        {
          "output_type": "execute_result",
          "data": {
            "text/plain": [
              "array(['topic-3', 'topic-2', 'topic-1', ..., 'topic-3', 'topic-4',\n",
              "       'topic-1'], dtype='<U7')"
            ]
          },
          "metadata": {
            "tags": []
          },
          "execution_count": 21
        }
      ]
    },
    {
      "cell_type": "code",
      "metadata": {
        "id": "OaBcqNYVYzfR"
      },
      "source": [
        "df[\"Predicted Topics\"] = pred"
      ],
      "execution_count": null,
      "outputs": []
    },
    {
      "cell_type": "code",
      "metadata": {
        "id": "bH29ES5dYzfT",
        "outputId": "ce1895d6-564d-400e-f210-2946d730d07f",
        "colab": {
          "base_uri": "https://localhost:8080/",
          "height": 195
        }
      },
      "source": [
        "df.head()"
      ],
      "execution_count": null,
      "outputs": [
        {
          "output_type": "execute_result",
          "data": {
            "text/html": [
              "<div>\n",
              "<style scoped>\n",
              "    .dataframe tbody tr th:only-of-type {\n",
              "        vertical-align: middle;\n",
              "    }\n",
              "\n",
              "    .dataframe tbody tr th {\n",
              "        vertical-align: top;\n",
              "    }\n",
              "\n",
              "    .dataframe thead th {\n",
              "        text-align: right;\n",
              "    }\n",
              "</style>\n",
              "<table border=\"1\" class=\"dataframe\">\n",
              "  <thead>\n",
              "    <tr style=\"text-align: right;\">\n",
              "      <th></th>\n",
              "      <th>Reviews</th>\n",
              "      <th>Predicted Topics</th>\n",
              "    </tr>\n",
              "  </thead>\n",
              "  <tbody>\n",
              "    <tr>\n",
              "      <th>15670</th>\n",
              "      <td>Great case, genuine Palm accessorie in Verizon...</td>\n",
              "      <td>topic-3</td>\n",
              "    </tr>\n",
              "    <tr>\n",
              "      <th>49913</th>\n",
              "      <td>Pros:  Works, both plugs holding up after a lo...</td>\n",
              "      <td>topic-2</td>\n",
              "    </tr>\n",
              "    <tr>\n",
              "      <th>119973</th>\n",
              "      <td>I really wanted to love theJabra TAG Bluetooth...</td>\n",
              "      <td>topic-1</td>\n",
              "    </tr>\n",
              "    <tr>\n",
              "      <th>8406</th>\n",
              "      <td>I ordered this so that I could plug in multipl...</td>\n",
              "      <td>topic-2</td>\n",
              "    </tr>\n",
              "    <tr>\n",
              "      <th>83511</th>\n",
              "      <td>Very nice case, it feels great in hand and sli...</td>\n",
              "      <td>topic-3</td>\n",
              "    </tr>\n",
              "  </tbody>\n",
              "</table>\n",
              "</div>"
            ],
            "text/plain": [
              "                                                  Reviews Predicted Topics\n",
              "15670   Great case, genuine Palm accessorie in Verizon...          topic-3\n",
              "49913   Pros:  Works, both plugs holding up after a lo...          topic-2\n",
              "119973  I really wanted to love theJabra TAG Bluetooth...          topic-1\n",
              "8406    I ordered this so that I could plug in multipl...          topic-2\n",
              "83511   Very nice case, it feels great in hand and sli...          topic-3"
            ]
          },
          "metadata": {
            "tags": []
          },
          "execution_count": 23
        }
      ]
    },
    {
      "cell_type": "code",
      "metadata": {
        "id": "IqCCPL-BYzfV"
      },
      "source": [
        ""
      ],
      "execution_count": null,
      "outputs": []
    }
  ]
}