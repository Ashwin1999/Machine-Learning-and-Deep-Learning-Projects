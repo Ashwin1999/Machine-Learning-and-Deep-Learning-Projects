{
  "nbformat": 4,
  "nbformat_minor": 0,
  "metadata": {
    "kernelspec": {
      "display_name": "Python 3",
      "language": "python",
      "name": "python3"
    },
    "language_info": {
      "codemirror_mode": {
        "name": "ipython",
        "version": 3
      },
      "file_extension": ".py",
      "mimetype": "text/x-python",
      "name": "python",
      "nbconvert_exporter": "python",
      "pygments_lexer": "ipython3",
      "version": "3.7.9"
    },
    "toc": {
      "base_numbering": 1,
      "nav_menu": {},
      "number_sections": false,
      "sideBar": true,
      "skip_h1_title": false,
      "title_cell": "Table of Contents",
      "title_sidebar": "Contents",
      "toc_cell": false,
      "toc_position": {},
      "toc_section_display": true,
      "toc_window_display": false
    },
    "colab": {
      "name": "Final LDA on BBC News.ipynb",
      "provenance": [],
      "collapsed_sections": [],
      "include_colab_link": true
    }
  },
  "cells": [
    {
      "cell_type": "markdown",
      "metadata": {
        "id": "view-in-github",
        "colab_type": "text"
      },
      "source": [
        "<a href=\"https://colab.research.google.com/github/Ashwin1999/Topic-Modelling-using-LDA/blob/master/Final_LDA_on_BBC_News.ipynb\" target=\"_parent\"><img src=\"https://colab.research.google.com/assets/colab-badge.svg\" alt=\"Open In Colab\"/></a>"
      ]
    },
    {
      "cell_type": "markdown",
      "metadata": {
        "id": "owcYomTtO6Bq"
      },
      "source": [
        "# 1. Importing the BBC News Dataset"
      ]
    },
    {
      "cell_type": "code",
      "metadata": {
        "id": "lOq58HRJYllv",
        "colab": {
          "base_uri": "https://localhost:8080/",
          "height": 212
        },
        "outputId": "57f7bb57-041a-4614-9e08-26d51f71b44b"
      },
      "source": [
        "import numpy as np\n",
        "import pandas as pd\n",
        "\n",
        "df = pd.read_csv('https://raw.githubusercontent.com/Ashwin1999/NLP-project---LDA/main/Datasets/BBC%20News.csv')\n",
        "print(f'Number of na values {df.isna().sum().sum()}')\n",
        "df.head()"
      ],
      "execution_count": null,
      "outputs": [
        {
          "output_type": "stream",
          "text": [
            "Number of na values 0\n"
          ],
          "name": "stdout"
        },
        {
          "output_type": "execute_result",
          "data": {
            "text/html": [
              "<div>\n",
              "<style scoped>\n",
              "    .dataframe tbody tr th:only-of-type {\n",
              "        vertical-align: middle;\n",
              "    }\n",
              "\n",
              "    .dataframe tbody tr th {\n",
              "        vertical-align: top;\n",
              "    }\n",
              "\n",
              "    .dataframe thead th {\n",
              "        text-align: right;\n",
              "    }\n",
              "</style>\n",
              "<table border=\"1\" class=\"dataframe\">\n",
              "  <thead>\n",
              "    <tr style=\"text-align: right;\">\n",
              "      <th></th>\n",
              "      <th>News</th>\n",
              "    </tr>\n",
              "  </thead>\n",
              "  <tbody>\n",
              "    <tr>\n",
              "      <th>0</th>\n",
              "      <td>Wal-Mart fights back at accusers Two big US na...</td>\n",
              "    </tr>\n",
              "    <tr>\n",
              "      <th>1</th>\n",
              "      <td>Hodgson relishes European clashes Former Black...</td>\n",
              "    </tr>\n",
              "    <tr>\n",
              "      <th>2</th>\n",
              "      <td>UK set to cut back on embassies Nine overseas ...</td>\n",
              "    </tr>\n",
              "    <tr>\n",
              "      <th>3</th>\n",
              "      <td>Holmes is hit by hamstring injury Kelly Holmes...</td>\n",
              "    </tr>\n",
              "    <tr>\n",
              "      <th>4</th>\n",
              "      <td>O'Gara revels in Ireland victory Ireland fly-h...</td>\n",
              "    </tr>\n",
              "  </tbody>\n",
              "</table>\n",
              "</div>"
            ],
            "text/plain": [
              "                                                News\n",
              "0  Wal-Mart fights back at accusers Two big US na...\n",
              "1  Hodgson relishes European clashes Former Black...\n",
              "2  UK set to cut back on embassies Nine overseas ...\n",
              "3  Holmes is hit by hamstring injury Kelly Holmes...\n",
              "4  O'Gara revels in Ireland victory Ireland fly-h..."
            ]
          },
          "metadata": {
            "tags": []
          },
          "execution_count": 1
        }
      ]
    },
    {
      "cell_type": "markdown",
      "metadata": {
        "id": "ucpPKg63O7fR"
      },
      "source": [
        "# 2. Using NLTK's WordNetLemmatizer to Lemmatize the Documents"
      ]
    },
    {
      "cell_type": "code",
      "metadata": {
        "id": "9TgIlX0VJ9fL",
        "colab": {
          "base_uri": "https://localhost:8080/"
        },
        "outputId": "4c74b976-d05a-4107-a860-09c68f041edd"
      },
      "source": [
        "import nltk\n",
        "\n",
        "nltk.download('wordnet')\n",
        "nltk.download('punkt')\n",
        "\n",
        "from nltk.stem import WordNetLemmatizer\n",
        "\n",
        "def SimpleLemmatizeSentences(sentence):\n",
        "    lemmatizer = WordNetLemmatizer()\n",
        "    word_list = nltk.word_tokenize(sentence)\n",
        "    return ' '.join([lemmatizer.lemmatize(w) for w in word_list])"
      ],
      "execution_count": null,
      "outputs": [
        {
          "output_type": "stream",
          "text": [
            "[nltk_data] Downloading package wordnet to /root/nltk_data...\n",
            "[nltk_data]   Package wordnet is already up-to-date!\n",
            "[nltk_data] Downloading package punkt to /root/nltk_data...\n",
            "[nltk_data]   Package punkt is already up-to-date!\n"
          ],
          "name": "stdout"
        }
      ]
    },
    {
      "cell_type": "code",
      "metadata": {
        "id": "0b6utavTJ_M8",
        "colab": {
          "base_uri": "https://localhost:8080/",
          "height": 212
        },
        "outputId": "1cb1c8b6-16ad-42ab-d088-10720a78c46c"
      },
      "source": [
        "import time\n",
        "\n",
        "start_time = time.time()\n",
        "df.News = df.News.apply(SimpleLemmatizeSentences)\n",
        "print(\"SimpleLemmatizeSentences() executed after \", round((time.time() - start_time), 2), \" seconds.\")\n",
        "\n",
        "df.head()"
      ],
      "execution_count": null,
      "outputs": [
        {
          "output_type": "stream",
          "text": [
            "SimpleLemmatizeSentences() executed after  13.79  seconds.\n"
          ],
          "name": "stdout"
        },
        {
          "output_type": "execute_result",
          "data": {
            "text/html": [
              "<div>\n",
              "<style scoped>\n",
              "    .dataframe tbody tr th:only-of-type {\n",
              "        vertical-align: middle;\n",
              "    }\n",
              "\n",
              "    .dataframe tbody tr th {\n",
              "        vertical-align: top;\n",
              "    }\n",
              "\n",
              "    .dataframe thead th {\n",
              "        text-align: right;\n",
              "    }\n",
              "</style>\n",
              "<table border=\"1\" class=\"dataframe\">\n",
              "  <thead>\n",
              "    <tr style=\"text-align: right;\">\n",
              "      <th></th>\n",
              "      <th>News</th>\n",
              "    </tr>\n",
              "  </thead>\n",
              "  <tbody>\n",
              "    <tr>\n",
              "      <th>0</th>\n",
              "      <td>Wal-Mart fight back at accuser Two big US name...</td>\n",
              "    </tr>\n",
              "    <tr>\n",
              "      <th>1</th>\n",
              "      <td>Hodgson relish European clash Former Blackburn...</td>\n",
              "    </tr>\n",
              "    <tr>\n",
              "      <th>2</th>\n",
              "      <td>UK set to cut back on embassy Nine overseas em...</td>\n",
              "    </tr>\n",
              "    <tr>\n",
              "      <th>3</th>\n",
              "      <td>Holmes is hit by hamstring injury Kelly Holmes...</td>\n",
              "    </tr>\n",
              "    <tr>\n",
              "      <th>4</th>\n",
              "      <td>O'Gara revel in Ireland victory Ireland fly-ha...</td>\n",
              "    </tr>\n",
              "  </tbody>\n",
              "</table>\n",
              "</div>"
            ],
            "text/plain": [
              "                                                News\n",
              "0  Wal-Mart fight back at accuser Two big US name...\n",
              "1  Hodgson relish European clash Former Blackburn...\n",
              "2  UK set to cut back on embassy Nine overseas em...\n",
              "3  Holmes is hit by hamstring injury Kelly Holmes...\n",
              "4  O'Gara revel in Ireland victory Ireland fly-ha..."
            ]
          },
          "metadata": {
            "tags": []
          },
          "execution_count": 3
        }
      ]
    },
    {
      "cell_type": "markdown",
      "metadata": {
        "id": "MU-HU7ajO9YD"
      },
      "source": [
        "# 3. Get the Document Term Matrix\n",
        "\n",
        "This can be done by using either the Tf-idf vectorizer or Count vectorizer.\n",
        "The former returns a float matrix whereas the latter return an integer matrix."
      ]
    },
    {
      "cell_type": "code",
      "metadata": {
        "id": "j76fyphQYll6",
        "colab": {
          "base_uri": "https://localhost:8080/"
        },
        "outputId": "5f1d18f1-4643-4a57-d51a-c14f896d44a3"
      },
      "source": [
        "from sklearn.feature_extraction.text import CountVectorizer\n",
        "\n",
        "cv = CountVectorizer(max_df=0.95, min_df=6, stop_words='english')\n",
        "dtm = cv.fit_transform(df['News'])\n",
        "\n",
        "print(f'Shape of document term matrix: {dtm.shape}')"
      ],
      "execution_count": null,
      "outputs": [
        {
          "output_type": "stream",
          "text": [
            "Shape of document term matrix: (2225, 7325)\n"
          ],
          "name": "stdout"
        }
      ]
    },
    {
      "cell_type": "markdown",
      "metadata": {
        "id": "2fjRTqajO4nL"
      },
      "source": [
        "# 4. Fit LDA to our Document Term Matrix\n",
        "\n",
        "Here, I want to find 5 topics from the corpus. I've set the alpha and eta parameters to 0.1 and 0.3 respectively. I'll train it batch wise, with the batch size set to 32 and a maximum of 50 iterations per batch."
      ]
    },
    {
      "cell_type": "code",
      "metadata": {
        "id": "-f2c3RspYlmX"
      },
      "source": [
        "from sklearn.decomposition import LatentDirichletAllocation\n",
        "\n",
        "nTopics = 5\n",
        "\n",
        "LDA = LatentDirichletAllocation(\n",
        "    n_components=nTopics,\n",
        "    doc_topic_prior=0.1,\n",
        "    topic_word_prior=0.3,\n",
        "    learning_method='batch',\n",
        "    learning_decay=0.8,\n",
        "    learning_offset=12.0,\n",
        "    max_iter=50,\n",
        "    batch_size=32,\n",
        ")"
      ],
      "execution_count": null,
      "outputs": []
    },
    {
      "cell_type": "code",
      "metadata": {
        "id": "SFJ_hQcBCQSy",
        "colab": {
          "base_uri": "https://localhost:8080/"
        },
        "outputId": "706afcbd-c6c1-47ce-d6ef-185d15ef9733"
      },
      "source": [
        "start_time = time.time()\n",
        "LDA.fit(dtm)\n",
        "print(\"LDA has fit on document term matrix after \", round((time.time() - start_time), 2), \" seconds.\")\n",
        "print(f'Shape of LDA components: {LDA.components_.shape}')"
      ],
      "execution_count": null,
      "outputs": [
        {
          "output_type": "stream",
          "text": [
            "LDA has fit on document term matrix after  51.25  seconds.\n",
            "Shape of LDA components: (5, 7325)\n"
          ],
          "name": "stdout"
        }
      ]
    },
    {
      "cell_type": "markdown",
      "metadata": {
        "id": "fg-5cGoLO_qx"
      },
      "source": [
        "# 5. Finding the Latent Topics from the trained LDA Model"
      ]
    },
    {
      "cell_type": "code",
      "metadata": {
        "id": "rg1i31-HYlmp",
        "colab": {
          "base_uri": "https://localhost:8080/"
        },
        "outputId": "e986f536-b3ae-46f6-eaa6-756517277086"
      },
      "source": [
        "def findTopic(i, topic):\n",
        "    topic_name = list()\n",
        "    for t in topic:\n",
        "        topic_name.append(cv.get_feature_names()[t])\n",
        "    return f\"Topic-{i}:\\t{topic_name}\\n\\n\"\n",
        "\n",
        "i=1\n",
        "for topic in LDA.components_:\n",
        "    topic = topic.argsort()[-20:] # get the indices of the top 20 words in each topic\n",
        "    print(findTopic(i, topic))\n",
        "    i+=1"
      ],
      "execution_count": null,
      "outputs": [
        {
          "output_type": "stream",
          "text": [
            "Topic-1:\t['uk', 'time', 'song', 'director', 'band', 'actor', 'number', 'british', 'world', 'won', 'new', 'star', 'music', 'award', 'said', 'ha', 'best', 'year', 'film', 'wa']\n",
            "\n",
            "\n",
            "Topic-2:\t['injury', 'just', 'half', 'ireland', 'wales', 'second', 'cup', 'play', 'team', 'match', 'club', 'win', 'time', 'year', 'england', 'player', 'game', 'said', 'ha', 'wa']\n",
            "\n",
            "\n",
            "Topic-3:\t['tax', 'law', 'public', 'year', 'plan', 'brown', 'new', 'told', 'blair', 'minister', 'say', 'election', 'people', 'party', 'labour', 'government', 'ha', 'wa', 'mr', 'said']\n",
            "\n",
            "\n",
            "Topic-4:\t['make', 'firm', 'net', 'digital', 'use', 'year', 'music', 'computer', 'user', 'mr', 'new', 'service', 'phone', 'technology', 'mobile', 'game', 'wa', 'ha', 'people', 'said']\n",
            "\n",
            "\n",
            "Topic-5:\t['business', '2004', 'rate', 'country', 'share', 'month', 'new', 'mr', 'growth', 'economy', 'price', 'sale', 'bank', 'firm', 'market', 'company', 'wa', 'year', 'ha', 'said']\n",
            "\n",
            "\n"
          ],
          "name": "stdout"
        }
      ]
    },
    {
      "cell_type": "code",
      "metadata": {
        "id": "hiAlSnAOYlmv"
      },
      "source": [
        "# My inference from the abovelist of topics...\n",
        "\n",
        "topics_pred = ['topics unknown']*5\n",
        "\n",
        "topics_pred[4] = \"Business\"\n",
        "topics_pred[2] = \"Politics\"\n",
        "topics_pred[3] = \"Tech\"\n",
        "topics_pred[1] = \"Sport\"\n",
        "topics_pred[0] = \"Entertainment\" "
      ],
      "execution_count": null,
      "outputs": []
    },
    {
      "cell_type": "markdown",
      "metadata": {
        "id": "Wr_Rx-rrPBeU"
      },
      "source": [
        "# 6. Making Predictions based on my Inference\n",
        "\n",
        "To make prediction, all I have to do is transform the document term matrix which we trained the LDA on."
      ]
    },
    {
      "cell_type": "code",
      "metadata": {
        "id": "zBXGJ-1lYlms",
        "colab": {
          "base_uri": "https://localhost:8080/"
        },
        "outputId": "3c0072ab-bd98-47ee-a141-9727b70502e5"
      },
      "source": [
        "# making the predictions...\n",
        "topic_results = LDA.transform(dtm)\n",
        "print(f'Shape of matrix: {topic_results.shape}')"
      ],
      "execution_count": null,
      "outputs": [
        {
          "output_type": "stream",
          "text": [
            "Shape of matrix: (2225, 5)\n"
          ],
          "name": "stdout"
        }
      ]
    },
    {
      "cell_type": "markdown",
      "metadata": {
        "id": "YHXE77n0TjrZ"
      },
      "source": [
        "The result will be a matrix which is the length of the dataset used and 5 columns wide (since we have 5 topics). For a given document, we'll have the probability of it belonging to each topic that we obtained. We'll be taking the topic corresponding to the highest probability."
      ]
    },
    {
      "cell_type": "code",
      "metadata": {
        "id": "eQBhrMYoPQ7z",
        "colab": {
          "base_uri": "https://localhost:8080/"
        },
        "outputId": "6c436bea-e2e1-4a04-8c14-bc71288e4e11"
      },
      "source": [
        "ind = 0\n",
        "print(\"News Article:\")\n",
        "print(df.iloc[ind,0])\n",
        "print('\\n\\n')\n",
        "print(f'Probability of news article belonging to each of the {nTopics} topics: {topic_results[0]}')"
      ],
      "execution_count": null,
      "outputs": [
        {
          "output_type": "stream",
          "text": [
            "News Article:\n",
            "Wal-Mart fight back at accuser Two big US name have launched advertising campaign to `` set the record straight '' about their product and corporate behaviour . The world 's biggest retailer Wal-Mart took out more than 100 full page advert in national newspaper . The group is trying to see off criticism over it pay deal , benefit package and promotion strategy . Meanwhile , drug group Eli Lilly is planning a campaign against `` false '' claim about it product Prozac . Wal-Mart kicked off the battle with advert in newspaper like the Wall Street Journal , using an open letter from company president Lee Scott saying it wa time for the public to hear the `` unfiltered truth '' . `` There are lot of 'urban legend ' going around these day about Wal-Mart , but fact are fact . Wal-Mart is good for consumer , good for community and good for the US economy , '' Mr Scott said in a separate statement . Its advert - and a new website - outlined the group 's plan to create more than 10,000 US job in 2005 . Wal-Mart 's average pay is almost twice the national minimum wage of $ 5.15 ( Â£3.90 ) an hour , while employee are offered health and life insurance , company stock and a retirement plan , the advert say . Unions accuse Wal-Mart of paying staff le than it rival do , with fewer benefit . In California , the company is fighting opposition to new store amid allegation it force local competitor out of business . Lawmakers in the state are also examining allegation that the firm burden the state with an unfair proportion of employee health care cost . `` I think they are going to have a tough time suddenly overcoming the perception of some people , '' said Larry Bevington , chairman of Save Our Community - a group fighting to prevent Wal-Mart opening a store in Rosemead , California . Wal-Mart is also fighting two lawsuit - one accusing it of discriminating against woman and another alleging it discriminates against black employee . Meanwhile Eli Lilly is launching a series of advert in a dozen major newspaper , to present what is say are the true fact about it anti-depressant drug Prozac . The move is in response to a British Medical Journal article that claimed `` missing '' Lilly document linked Prozac to suicide and violent behaviour . In the averts , entitled An Open Letter from chief executive Sidney Taurel , the company say the article continues to `` needlessly spread fear among patient who take Prozac '' . `` It wa simply wrong to suggest that information on Prozac wa missing , or that important research data on the benefit and possible side effect of the drug were not available to doctor and regulator , '' the letter added . Eli Lilly 's chief medical officer Alan Breier said that the article wa `` false and misleading '' a the document it referred to were actually created by official at the US Food and Drug Administration ( FDA ) and presented to an FDA meeting in 1991 . Later , FDA medical advisor agreed the claim were based on faulty data and there wa no increased risk of suicide .\n",
            "\n",
            "\n",
            "\n",
            "Probability of news article belonging to each of the 5 topics: [3.75374853e-04 3.75322193e-04 4.26139688e-01 9.08063960e-02\n",
            " 4.82303218e-01]\n"
          ],
          "name": "stdout"
        }
      ]
    },
    {
      "cell_type": "markdown",
      "metadata": {
        "id": "hUBNm33PUyiS"
      },
      "source": [
        "We can clearly see the value at the last index is highest. So it must belong to **business** as per the LDA model.\n",
        "\n",
        "Inorder to get the max values for each row of the numpy array, we can make use of the argmax method since it will give us the index with the maximum value. If we have the index, we can say which topic it belongs to."
      ]
    },
    {
      "cell_type": "code",
      "metadata": {
        "id": "fstoUH9yYlmx",
        "colab": {
          "base_uri": "https://localhost:8080/",
          "height": 195
        },
        "outputId": "2197979c-478a-4464-d1fe-110a24b19356"
      },
      "source": [
        "topic_index = topic_results.argmax(axis=1)\n",
        "pred = np.array([topics_pred[ind] for ind in topic_index])\n",
        "df[\"Predicted Topics\"] = pred\n",
        "df.head()"
      ],
      "execution_count": null,
      "outputs": [
        {
          "output_type": "execute_result",
          "data": {
            "text/html": [
              "<div>\n",
              "<style scoped>\n",
              "    .dataframe tbody tr th:only-of-type {\n",
              "        vertical-align: middle;\n",
              "    }\n",
              "\n",
              "    .dataframe tbody tr th {\n",
              "        vertical-align: top;\n",
              "    }\n",
              "\n",
              "    .dataframe thead th {\n",
              "        text-align: right;\n",
              "    }\n",
              "</style>\n",
              "<table border=\"1\" class=\"dataframe\">\n",
              "  <thead>\n",
              "    <tr style=\"text-align: right;\">\n",
              "      <th></th>\n",
              "      <th>News</th>\n",
              "      <th>Predicted Topics</th>\n",
              "    </tr>\n",
              "  </thead>\n",
              "  <tbody>\n",
              "    <tr>\n",
              "      <th>0</th>\n",
              "      <td>Wal-Mart fight back at accuser Two big US name...</td>\n",
              "      <td>Business</td>\n",
              "    </tr>\n",
              "    <tr>\n",
              "      <th>1</th>\n",
              "      <td>Hodgson relish European clash Former Blackburn...</td>\n",
              "      <td>Sport</td>\n",
              "    </tr>\n",
              "    <tr>\n",
              "      <th>2</th>\n",
              "      <td>UK set to cut back on embassy Nine overseas em...</td>\n",
              "      <td>Politics</td>\n",
              "    </tr>\n",
              "    <tr>\n",
              "      <th>3</th>\n",
              "      <td>Holmes is hit by hamstring injury Kelly Holmes...</td>\n",
              "      <td>Sport</td>\n",
              "    </tr>\n",
              "    <tr>\n",
              "      <th>4</th>\n",
              "      <td>O'Gara revel in Ireland victory Ireland fly-ha...</td>\n",
              "      <td>Sport</td>\n",
              "    </tr>\n",
              "  </tbody>\n",
              "</table>\n",
              "</div>"
            ],
            "text/plain": [
              "                                                News Predicted Topics\n",
              "0  Wal-Mart fight back at accuser Two big US name...         Business\n",
              "1  Hodgson relish European clash Former Blackburn...            Sport\n",
              "2  UK set to cut back on embassy Nine overseas em...         Politics\n",
              "3  Holmes is hit by hamstring injury Kelly Holmes...            Sport\n",
              "4  O'Gara revel in Ireland victory Ireland fly-ha...            Sport"
            ]
          },
          "metadata": {
            "tags": []
          },
          "execution_count": 11
        }
      ]
    },
    {
      "cell_type": "markdown",
      "metadata": {
        "id": "Mrrv5xaaTrbh"
      },
      "source": [
        "# 7. Inspecting our LDA Model's Prediction"
      ]
    },
    {
      "cell_type": "code",
      "metadata": {
        "id": "UNzqNHVqYlm6"
      },
      "source": [
        "def get_news_and_topic(ind):\n",
        "  print(f'News:\\n{df.iloc[ind, 0]}')\n",
        "  print(f'\\n\\nTopic Predicted: {df.iloc[ind, 1]}')"
      ],
      "execution_count": null,
      "outputs": []
    },
    {
      "cell_type": "code",
      "metadata": {
        "id": "Geilm-BibRcV",
        "colab": {
          "base_uri": "https://localhost:8080/"
        },
        "outputId": "114279ca-87cc-40b7-829a-5ec9de9d4a60"
      },
      "source": [
        "get_news_and_topic(0)"
      ],
      "execution_count": null,
      "outputs": [
        {
          "output_type": "stream",
          "text": [
            "News:\n",
            "Wal-Mart fight back at accuser Two big US name have launched advertising campaign to `` set the record straight '' about their product and corporate behaviour . The world 's biggest retailer Wal-Mart took out more than 100 full page advert in national newspaper . The group is trying to see off criticism over it pay deal , benefit package and promotion strategy . Meanwhile , drug group Eli Lilly is planning a campaign against `` false '' claim about it product Prozac . Wal-Mart kicked off the battle with advert in newspaper like the Wall Street Journal , using an open letter from company president Lee Scott saying it wa time for the public to hear the `` unfiltered truth '' . `` There are lot of 'urban legend ' going around these day about Wal-Mart , but fact are fact . Wal-Mart is good for consumer , good for community and good for the US economy , '' Mr Scott said in a separate statement . Its advert - and a new website - outlined the group 's plan to create more than 10,000 US job in 2005 . Wal-Mart 's average pay is almost twice the national minimum wage of $ 5.15 ( Â£3.90 ) an hour , while employee are offered health and life insurance , company stock and a retirement plan , the advert say . Unions accuse Wal-Mart of paying staff le than it rival do , with fewer benefit . In California , the company is fighting opposition to new store amid allegation it force local competitor out of business . Lawmakers in the state are also examining allegation that the firm burden the state with an unfair proportion of employee health care cost . `` I think they are going to have a tough time suddenly overcoming the perception of some people , '' said Larry Bevington , chairman of Save Our Community - a group fighting to prevent Wal-Mart opening a store in Rosemead , California . Wal-Mart is also fighting two lawsuit - one accusing it of discriminating against woman and another alleging it discriminates against black employee . Meanwhile Eli Lilly is launching a series of advert in a dozen major newspaper , to present what is say are the true fact about it anti-depressant drug Prozac . The move is in response to a British Medical Journal article that claimed `` missing '' Lilly document linked Prozac to suicide and violent behaviour . In the averts , entitled An Open Letter from chief executive Sidney Taurel , the company say the article continues to `` needlessly spread fear among patient who take Prozac '' . `` It wa simply wrong to suggest that information on Prozac wa missing , or that important research data on the benefit and possible side effect of the drug were not available to doctor and regulator , '' the letter added . Eli Lilly 's chief medical officer Alan Breier said that the article wa `` false and misleading '' a the document it referred to were actually created by official at the US Food and Drug Administration ( FDA ) and presented to an FDA meeting in 1991 . Later , FDA medical advisor agreed the claim were based on faulty data and there wa no increased risk of suicide .\n",
            "\n",
            "\n",
            "Topic Predicted: Business\n"
          ],
          "name": "stdout"
        }
      ]
    },
    {
      "cell_type": "code",
      "metadata": {
        "id": "nK8VeNVrbV61",
        "colab": {
          "base_uri": "https://localhost:8080/"
        },
        "outputId": "55d442e6-cc34-489c-a90c-c771b23ee85e"
      },
      "source": [
        "get_news_and_topic(1)"
      ],
      "execution_count": null,
      "outputs": [
        {
          "output_type": "stream",
          "text": [
            "News:\n",
            "Hodgson relish European clash Former Blackburn bos Roy Hodgson say the Premiership should follow the rest of Europe and have a winter break - but insists that a gruelling domestic schedule will not damage the English elite 's bid for Champions League glory . Hodgson - now in charge at Viking Stavanger - wa at Liverpool 's clash with Bayer Leverkusen at Anfield on Tuesday a a member of Uefa 's technical committee . Hodgson is a fierce advocate of the winter break employed throughout Europe , although not in England - where the Champions League contender have ploughed through a heavy fixture list . But Hodgson told BBC Sport that while he belief the Premiership should embrace the idea , he doe not expect it to cost the English representative in the last 16 of the Champions League . `` I just feel it is very difficult to say with certainty that team who have had the break will have a definite edge . `` I am a fervent supporter of the break . It give player the chance to recharge their battery midway through the season , which some suggest will give team an advantage in the Champions League . `` The other school of thought suggests having a break then coming back to it put you at a disadvantage . `` The bigger discussion around the winter break should be to do with the nature of football today , the need of football player and the way the Premiership ha developed , rather than one or two match in the Champions League in February . '' Hodgson belief a winter break carry many advantage , explaining : `` As I said , it is the perfect chance to recharge battery . `` And certainly if I wa still a manager in England I would be supporting any call for it introduction . `` In pre-season you get a lot of enthusiasm and energy but by the time you get towards Christmas many player , having also played plenty of international match for club and country and travelled a lot , find themselves getting very jaded . `` The break give them a chance to recover that energy and enthusiasm and , perhaps more importantly , recover their mental strength during the break and get ready for the game ahead . `` The mental side is by far the most important thing . '' Hodgson added : `` The length of break can vary . In Italy the break wa very short . You just took Christmas and New Year . `` It wa so short you did n't do anything . You gave the player a week or 10 day off , then you were training for a week or 10 day and then went into a game . `` If it is longer , it is important those responsible for physical fitness give the player a programme to follow to ensure the physical strength they have accumulated stay with them . '' And Hodgson belief a winter break would be a positive step in the Premiership . He said : `` If we talk about football at elite level , which the Premiership is , then I would support a winter break . `` If you examine the demand of the Premier League and , in particular on player who play international football for their club and country , then a break would do them the world of good - physically and mentally . ''\n",
            "\n",
            "\n",
            "Topic Predicted: Sport\n"
          ],
          "name": "stdout"
        }
      ]
    },
    {
      "cell_type": "code",
      "metadata": {
        "id": "NExeAiHpbbD3",
        "colab": {
          "base_uri": "https://localhost:8080/"
        },
        "outputId": "fcba9d17-18ac-49c5-8763-a4d0317db5f1"
      },
      "source": [
        "get_news_and_topic(2)"
      ],
      "execution_count": null,
      "outputs": [
        {
          "output_type": "stream",
          "text": [
            "News:\n",
            "UK set to cut back on embassy Nine overseas embassy and high commission will close in an effort to save money , UK Foreign Secretary Jack Straw ha announced . The Bahamas , East Timor , Madagascar and Swaziland are among the area affected by the biggest shake-up for the diplomatic service for year . Other diplomatic post are being turned over to local staff . Mr Straw said the move would save Â£6m a year to free up cash for priority such a fighting terrorism . Honorary consul will be appointed in some of the area affected by the embassy closure . Nine consulate or consulate general will also be closed , mostly in Europe and America . They include Dallas in the US , Bordeaux in France and Oporto in Portugal , with local staff replacing UK representation in another 11 . The change are due to be put in place before the end of 2006 , with most saving made from cutting staff and running cost . Some of the money will have to be used to fund redundancy payment . In a written statement , Mr Straw said : `` The saving made will help to underpin higher priority work in line with the Foreign and Commonwealth Office 's strategic priority , including counter- proliferation , counter-terrorism , energy and climate change . `` Some of the saving will also be redeployed to strategic priority work within certain region where we are closing post . `` In Africa , for instance , we plan to create new job to cover these issue across the region , with a new post in Nairobi to help support our work on climate change , one in Nigeria to cover energy and one in Pretoria to cover regional issue more generally a well a covering Maseru and Mbabane . '' The Foreign Office currently ha about 6,100 UK-based staff . It ha opened major new mission on Baghdad and Basra in Iraq , Kabul in Afghanistan and Pyongyang in North Korea since 1997 in response to what the government say are changing need . Since 1997 10 overseas post have been closed - excluding Wednesday 's cut - but 18 new embassy or consulate have been opened . The shake-up is aimed at helping making Â£86m in efficiency saving between 2005 and 2008 . The chancellor ha demanded all government department make similar saving . Shadow foreign secretary Michael Ancram said there wa a constant need to ensure value for money from foreign mission . `` But the government must give a far clearer reason for making the dramatic change it ha announced and must show that British commercial interest and the interest of Britons abroad will not be adversely affected , '' he said .\n",
            "\n",
            "\n",
            "Topic Predicted: Politics\n"
          ],
          "name": "stdout"
        }
      ]
    },
    {
      "cell_type": "code",
      "metadata": {
        "id": "LhwUZihTbcW4",
        "colab": {
          "base_uri": "https://localhost:8080/"
        },
        "outputId": "8ed8cb4b-14cf-47c3-a2b3-5ff5d59f236f"
      },
      "source": [
        "get_news_and_topic(98)"
      ],
      "execution_count": null,
      "outputs": [
        {
          "output_type": "stream",
          "text": [
            "News:\n",
            "Cardinal criticises Iraq war cost Billions of pound spent on conflict in Iraq and in the Middle East should have been used to reduce poverty , Cardinal Cormac Murphy-O'Connor ha said . The head of the Catholic Church in England and Wales made the comment on BBC Radio 4 and will re-iterate his stance in his Christmas Midnight Mass . The cardinal used a Christmas message to denounce the war in Iraq a a `` terrible '' waste of money . He and the Archbishop of Canterbury have both spoken out about the war . Speaking on BBC Radio 4 's Thought for the Day slot , he criticised the fact that `` billion '' have been spent on war , instead of being used to bring people `` out of dire poverty and malnourishment and disease '' . The cardinal said 2005 should be the year for campaigning to `` make history poverty '' . He added : `` If the government of the rich country were a ready to devote to peace the resource they are willing to commit to war , that would be to see with new eye and speak with a new voice and perhaps then others would listen to u with new ear . '' The cardinal will touch on this theme again on Friday night when he will tell the congregation of 2,000 at Westminster Cathedral that peace is `` worth , always , striving for '' . `` How is it that peace ha not arrived ? , '' the cardinal will ask . `` How is it that there is war in Iraq , violence in the Holy Land , and the horror of pain and death amongst the poor and deprived who suffer from injustice and thus do not find peace ? '' `` How can one wish a happy Christmas for our fellow Christians in Iraq or in the Holy Land or those who suffer in Africa unless you and I , in whatever way is open to u , say and do what make for peace ? '' Both the Cardinal and Archbishop of Canterbury Dr Rowan Williams appealed for the weapon inspector to be given more time in Iraq before the war started . Dr Williams ha since criticised the government over it case for war , saying the failure to find weapon of mass destruction had damaged faith in the political system . On Friday , the Cardinal will ask the congregation to search for peace . `` It is possible , it is real , it is worth , always , striving for , because of the promise of Our Saviour , '' he will say . `` I also wish you peace in your home because peace in your home is the beginning of peace in the home of the community. `` A spokesman said Downing Street had no comment to make . But Prime Minister Tony Blair ha said he will put Africa at the top of the agenda when Britain chair the G8 summit next year .\n",
            "\n",
            "\n",
            "Topic Predicted: Politics\n"
          ],
          "name": "stdout"
        }
      ]
    },
    {
      "cell_type": "code",
      "metadata": {
        "id": "YZiJQTe5VyBE",
        "colab": {
          "base_uri": "https://localhost:8080/"
        },
        "outputId": "8334cfbc-de64-47c0-a567-f8123d45f6b1"
      },
      "source": [
        "get_news_and_topic(42)"
      ],
      "execution_count": null,
      "outputs": [
        {
          "output_type": "stream",
          "text": [
            "News:\n",
            "Adventure tale top award Young book fan have voted Fergus Crane , a story about a boy who is taken on an adventure by a flying horse , the winner of two Smarties Book Prizes . Paul Stewart and Chris Riddell 's book came top in the category for six- to eight-year-olds and won the award chosen by after-school club member . Sally Grindley 's Spilled Water , about a Chinese girl sold a a servant , wa top in vote of reader aged nine to 11 . Biscuit Bear by Mini Grey took the top award in the under-five category . Winners were voted for by about 6,000 child from a shortlist picked by an adult panel . The prize , which is celebrating it 20th year , is billed a `` the UK 's biggest child 's book award '' . Fergus Crane includes text by Stewart and illustration by Riddell , who also created The Edge Chronicles together . As well a the six to eight prize , it won the 4Children Special Award voted for by after-school club member . Julia Eccleshare , chair of the adult judging panel , said child 's literature had `` never looked stronger '' in the prize 's 20 year . `` This award count because the final choice of winner is made by child , who are the toughest critic of all , '' she said . `` This year 's young judge chose the winner from an exceptionally strong and varied shortlist which showcase the very best in child 's book today . '' Previous winner have included JK Rowling , Jacqueline Wilson and Dick King-Smith .\n",
            "\n",
            "\n",
            "Topic Predicted: Entertainment\n"
          ],
          "name": "stdout"
        }
      ]
    },
    {
      "cell_type": "code",
      "metadata": {
        "id": "d2YQBRtbVzsE"
      },
      "source": [
        ""
      ],
      "execution_count": null,
      "outputs": []
    }
  ]
}