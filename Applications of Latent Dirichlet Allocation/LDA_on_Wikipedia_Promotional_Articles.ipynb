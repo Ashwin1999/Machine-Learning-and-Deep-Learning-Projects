{
  "nbformat": 4,
  "nbformat_minor": 0,
  "metadata": {
    "kernelspec": {
      "display_name": "Python 3",
      "language": "python",
      "name": "python3"
    },
    "language_info": {
      "codemirror_mode": {
        "name": "ipython",
        "version": 3
      },
      "file_extension": ".py",
      "mimetype": "text/x-python",
      "name": "python",
      "nbconvert_exporter": "python",
      "pygments_lexer": "ipython3",
      "version": "3.7.9"
    },
    "toc": {
      "base_numbering": 1,
      "nav_menu": {},
      "number_sections": false,
      "sideBar": true,
      "skip_h1_title": false,
      "title_cell": "Table of Contents",
      "title_sidebar": "Contents",
      "toc_cell": false,
      "toc_position": {},
      "toc_section_display": true,
      "toc_window_display": false
    },
    "colab": {
      "name": "LDA on Wikipedia Promotional Articles.ipynb",
      "provenance": [],
      "collapsed_sections": [],
      "include_colab_link": true
    }
  },
  "cells": [
    {
      "cell_type": "markdown",
      "metadata": {
        "id": "view-in-github",
        "colab_type": "text"
      },
      "source": [
        "<a href=\"https://colab.research.google.com/github/Ashwin1999/NLP-project---LDA/blob/main/LDA_on_Wikipedia_Promotional_Articles.ipynb\" target=\"_parent\"><img src=\"https://colab.research.google.com/assets/colab-badge.svg\" alt=\"Open In Colab\"/></a>"
      ]
    },
    {
      "cell_type": "code",
      "metadata": {
        "id": "jlqN9btYlZ_w",
        "outputId": "f42beef1-3107-4069-fd91-0f2354e7e7bb",
        "colab": {
          "base_uri": "https://localhost:8080/"
        }
      },
      "source": [
        "from google.colab import drive\n",
        "drive.mount('/content/drive')"
      ],
      "execution_count": null,
      "outputs": [
        {
          "output_type": "stream",
          "text": [
            "Drive already mounted at /content/drive; to attempt to forcibly remount, call drive.mount(\"/content/drive\", force_remount=True).\n"
          ],
          "name": "stdout"
        }
      ]
    },
    {
      "cell_type": "code",
      "metadata": {
        "id": "RJzEgqOJY0c8"
      },
      "source": [
        "import numpy as np\n",
        "import pandas as pd\n",
        "import matplotlib.pyplot as plt"
      ],
      "execution_count": null,
      "outputs": []
    },
    {
      "cell_type": "code",
      "metadata": {
        "id": "SNbbMGBhY0dB",
        "outputId": "014d018a-152c-40b8-f13b-b5def77a1a80",
        "colab": {
          "base_uri": "https://localhost:8080/",
          "height": 195
        }
      },
      "source": [
        "# download the excel file and load from drive\n",
        "\n",
        "# replace this with your drive link to the excel file\n",
        "location = '/content/drive/My Drive/Colab Notebooks/Dataset Folder 1/Wikipedia Articles.xlsx'\n",
        "\n",
        "df = pd.read_excel(location)\n",
        "df = pd.DataFrame(df.iloc[np.random.randint(0, 24027, size=2500), 0])\n",
        "df.head()"
      ],
      "execution_count": null,
      "outputs": [
        {
          "output_type": "execute_result",
          "data": {
            "text/html": [
              "<div>\n",
              "<style scoped>\n",
              "    .dataframe tbody tr th:only-of-type {\n",
              "        vertical-align: middle;\n",
              "    }\n",
              "\n",
              "    .dataframe tbody tr th {\n",
              "        vertical-align: top;\n",
              "    }\n",
              "\n",
              "    .dataframe thead th {\n",
              "        text-align: right;\n",
              "    }\n",
              "</style>\n",
              "<table border=\"1\" class=\"dataframe\">\n",
              "  <thead>\n",
              "    <tr style=\"text-align: right;\">\n",
              "      <th></th>\n",
              "      <th>Articles</th>\n",
              "    </tr>\n",
              "  </thead>\n",
              "  <tbody>\n",
              "    <tr>\n",
              "      <th>10390</th>\n",
              "      <td>Jamstix is a VST instrument produced by Rayzoo...</td>\n",
              "    </tr>\n",
              "    <tr>\n",
              "      <th>3827</th>\n",
              "      <td>2012 Koreas 100 Most Influential Person for Ne...</td>\n",
              "    </tr>\n",
              "    <tr>\n",
              "      <th>5083</th>\n",
              "      <td>Gourahari Das is a creative writer, journalist...</td>\n",
              "    </tr>\n",
              "    <tr>\n",
              "      <th>13167</th>\n",
              "      <td>Mayhew formerly known as The Mayhew Animal Hom...</td>\n",
              "    </tr>\n",
              "    <tr>\n",
              "      <th>15885</th>\n",
              "      <td>Palampur is a hill station and a municipal cou...</td>\n",
              "    </tr>\n",
              "  </tbody>\n",
              "</table>\n",
              "</div>"
            ],
            "text/plain": [
              "                                                Articles\n",
              "10390  Jamstix is a VST instrument produced by Rayzoo...\n",
              "3827   2012 Koreas 100 Most Influential Person for Ne...\n",
              "5083   Gourahari Das is a creative writer, journalist...\n",
              "13167  Mayhew formerly known as The Mayhew Animal Hom...\n",
              "15885  Palampur is a hill station and a municipal cou..."
            ]
          },
          "metadata": {
            "tags": []
          },
          "execution_count": 3
        }
      ]
    },
    {
      "cell_type": "code",
      "metadata": {
        "id": "TYUUX0xnY0dF",
        "outputId": "cc49c716-3e65-4e24-eeb5-3563a6cb25f1",
        "colab": {
          "base_uri": "https://localhost:8080/"
        }
      },
      "source": [
        "df.isna().sum()"
      ],
      "execution_count": null,
      "outputs": [
        {
          "output_type": "execute_result",
          "data": {
            "text/plain": [
              "Articles    0\n",
              "dtype: int64"
            ]
          },
          "metadata": {
            "tags": []
          },
          "execution_count": 4
        }
      ]
    },
    {
      "cell_type": "code",
      "metadata": {
        "id": "lPBAAnkgY0dJ"
      },
      "source": [
        "df.dropna(inplace=True)"
      ],
      "execution_count": null,
      "outputs": []
    },
    {
      "cell_type": "code",
      "metadata": {
        "id": "A1WmNyUXY0dL"
      },
      "source": [
        "from sklearn.feature_extraction.text import CountVectorizer"
      ],
      "execution_count": null,
      "outputs": []
    },
    {
      "cell_type": "code",
      "metadata": {
        "id": "Nva6rWuQY0dN"
      },
      "source": [
        "cv = CountVectorizer(max_df=0.9, min_df=2, stop_words='english')"
      ],
      "execution_count": null,
      "outputs": []
    },
    {
      "cell_type": "code",
      "metadata": {
        "id": "Vv5AcXffY0dQ"
      },
      "source": [
        "dtm = cv.fit_transform(df['Articles'])"
      ],
      "execution_count": null,
      "outputs": []
    },
    {
      "cell_type": "code",
      "metadata": {
        "id": "m5Vq6UUsY0dT",
        "outputId": "6224a65b-140e-40f0-ac80-5aa113d15d15",
        "colab": {
          "base_uri": "https://localhost:8080/"
        }
      },
      "source": [
        "dtm"
      ],
      "execution_count": null,
      "outputs": [
        {
          "output_type": "execute_result",
          "data": {
            "text/plain": [
              "<2500x31958 sparse matrix of type '<class 'numpy.int64'>'\n",
              "\twith 594942 stored elements in Compressed Sparse Row format>"
            ]
          },
          "metadata": {
            "tags": []
          },
          "execution_count": 9
        }
      ]
    },
    {
      "cell_type": "code",
      "metadata": {
        "id": "Ut_FfQJyY0dW"
      },
      "source": [
        "from sklearn.decomposition import LatentDirichletAllocation"
      ],
      "execution_count": null,
      "outputs": []
    },
    {
      "cell_type": "code",
      "metadata": {
        "id": "yDPjdbQ4Y0dZ"
      },
      "source": [
        "topicCount = 4\n",
        "LDA = LatentDirichletAllocation(n_components=topicCount)"
      ],
      "execution_count": null,
      "outputs": []
    },
    {
      "cell_type": "code",
      "metadata": {
        "id": "AnWkGS9bY0db",
        "outputId": "070d190b-279e-4726-dd46-e5dda1101c9c",
        "colab": {
          "base_uri": "https://localhost:8080/"
        }
      },
      "source": [
        "LDA.fit(dtm)"
      ],
      "execution_count": null,
      "outputs": [
        {
          "output_type": "execute_result",
          "data": {
            "text/plain": [
              "LatentDirichletAllocation(batch_size=128, doc_topic_prior=None,\n",
              "                          evaluate_every=-1, learning_decay=0.7,\n",
              "                          learning_method='batch', learning_offset=10.0,\n",
              "                          max_doc_update_iter=100, max_iter=10,\n",
              "                          mean_change_tol=0.001, n_components=4, n_jobs=None,\n",
              "                          perp_tol=0.1, random_state=None,\n",
              "                          topic_word_prior=None, total_samples=1000000.0,\n",
              "                          verbose=0)"
            ]
          },
          "metadata": {
            "tags": []
          },
          "execution_count": 12
        }
      ]
    },
    {
      "cell_type": "code",
      "metadata": {
        "id": "I0My2hHwY0dd",
        "outputId": "8c71c27a-cb05-4947-91f2-7194fc1af208",
        "colab": {
          "base_uri": "https://localhost:8080/",
          "height": 35
        }
      },
      "source": [
        "cv.get_feature_names()[2000]"
      ],
      "execution_count": null,
      "outputs": [
        {
          "output_type": "execute_result",
          "data": {
            "application/vnd.google.colaboratory.intrinsic+json": {
              "type": "string"
            },
            "text/plain": [
              "'aftermarket'"
            ]
          },
          "metadata": {
            "tags": []
          },
          "execution_count": 13
        }
      ]
    },
    {
      "cell_type": "code",
      "metadata": {
        "id": "g4DwOBFvY0dg",
        "outputId": "468fc78a-f90b-4a8f-bf11-9335ce3d38d1",
        "colab": {
          "base_uri": "https://localhost:8080/"
        }
      },
      "source": [
        "len(LDA.components_)"
      ],
      "execution_count": null,
      "outputs": [
        {
          "output_type": "execute_result",
          "data": {
            "text/plain": [
              "4"
            ]
          },
          "metadata": {
            "tags": []
          },
          "execution_count": 14
        }
      ]
    },
    {
      "cell_type": "code",
      "metadata": {
        "id": "Jq6dhzVXY0dj",
        "outputId": "4a674fea-7d03-40cf-8a9f-af343651b6b2",
        "colab": {
          "base_uri": "https://localhost:8080/"
        }
      },
      "source": [
        "LDA.components_.shape"
      ],
      "execution_count": null,
      "outputs": [
        {
          "output_type": "execute_result",
          "data": {
            "text/plain": [
              "(4, 31958)"
            ]
          },
          "metadata": {
            "tags": []
          },
          "execution_count": 15
        }
      ]
    },
    {
      "cell_type": "code",
      "metadata": {
        "id": "2_9zKqYbY0do",
        "outputId": "318017ae-e9be-4635-cc9d-c525e56256fa",
        "colab": {
          "base_uri": "https://localhost:8080/"
        }
      },
      "source": [
        "def findTopic(i, topic):\n",
        "    topic_name = list()\n",
        "    for t in topic:\n",
        "        topic_name.append(cv.get_feature_names()[t])\n",
        "    return f\"Topic-{i}:\\t{topic_name}\\n\\n\"\n",
        "\n",
        "i=1\n",
        "for topic in LDA.components_:\n",
        "    topic = topic.argsort()[-20:] # get the indices of the top 20 words in each topic\n",
        "    print(findTopic(i, topic))\n",
        "    i+=1"
      ],
      "execution_count": null,
      "outputs": [
        {
          "output_type": "stream",
          "text": [
            "Topic-1:\t['research', 'women', 'music', 'year', 'state', 'york', 'band', 'president', 'cs1', 'city', 'international', 'released', 'member', 'parser', 'mw', 'output', 'national', 'university', 'album', 'new']\n",
            "\n",
            "\n",
            "Topic-2:\t['institute', 'business', 'department', 'area', 'programs', 'public', 'national', 'development', 'community', 'center', 'year', 'international', 'new', 'college', 'education', 'program', 'research', 'students', 'university', 'school']\n",
            "\n",
            "\n",
            "Topic-3:\t['including', 'time', 'companies', 'management', 'group', 'systems', 'network', 'service', 'use', 'software', 'services', 'data', 'million', 'technology', 'used', 'products', 'business', 'based', 'new', 'company']\n",
            "\n",
            "\n",
            "Topic-4:\t['arts', 'including', 'later', 'book', 'university', 'college', 'festival', 'game', 'american', 'world', 'team', 'years', 'series', 'art', 'year', 'film', 'time', 'music', 'school', 'new']\n",
            "\n",
            "\n"
          ],
          "name": "stdout"
        }
      ]
    },
    {
      "cell_type": "code",
      "metadata": {
        "id": "pjCPdtUNY0dq",
        "outputId": "c3d68ba7-ddd5-482e-d2e4-b32a8448884c",
        "colab": {
          "base_uri": "https://localhost:8080/"
        }
      },
      "source": [
        "topic_results = LDA.transform(dtm)\n",
        "topic_results.shape"
      ],
      "execution_count": null,
      "outputs": [
        {
          "output_type": "execute_result",
          "data": {
            "text/plain": [
              "(2500, 4)"
            ]
          },
          "metadata": {
            "tags": []
          },
          "execution_count": 17
        }
      ]
    },
    {
      "cell_type": "code",
      "metadata": {
        "id": "Tn-_xCjwY0ds"
      },
      "source": [
        "topics_pred = [\n",
        "    \"topic-1\",\n",
        "    \"topic-2\",\n",
        "    \"topic-3\",\n",
        "    \"topic-4\",\n",
        "]"
      ],
      "execution_count": null,
      "outputs": []
    },
    {
      "cell_type": "code",
      "metadata": {
        "id": "AT2KANbdY0du",
        "outputId": "0d59acb6-fec3-4fee-c66c-58d624e43bd4",
        "colab": {
          "base_uri": "https://localhost:8080/"
        }
      },
      "source": [
        "topic_index = topic_results.argmax(axis=1)\n",
        "topic_index[:10]"
      ],
      "execution_count": null,
      "outputs": [
        {
          "output_type": "execute_result",
          "data": {
            "text/plain": [
              "array([2, 0, 3, 1, 1, 2, 3, 2, 2, 1])"
            ]
          },
          "metadata": {
            "tags": []
          },
          "execution_count": 19
        }
      ]
    },
    {
      "cell_type": "code",
      "metadata": {
        "id": "AiLf5wpSY0dy",
        "outputId": "723e7344-52de-465a-cc42-44cd6e4ee27e",
        "colab": {
          "base_uri": "https://localhost:8080/"
        }
      },
      "source": [
        "pred = np.array([topics_pred[ind] for ind in topic_index])\n",
        "pred"
      ],
      "execution_count": null,
      "outputs": [
        {
          "output_type": "execute_result",
          "data": {
            "text/plain": [
              "array(['topic-3', 'topic-1', 'topic-4', ..., 'topic-1', 'topic-1',\n",
              "       'topic-4'], dtype='<U7')"
            ]
          },
          "metadata": {
            "tags": []
          },
          "execution_count": 20
        }
      ]
    },
    {
      "cell_type": "code",
      "metadata": {
        "id": "ob6l3MkxY0d2"
      },
      "source": [
        "df[\"Predicted Topics\"] = pred"
      ],
      "execution_count": null,
      "outputs": []
    },
    {
      "cell_type": "code",
      "metadata": {
        "id": "_47qTPr0Y0d5",
        "outputId": "7634b3fa-eb41-430c-bc47-ba0cc23a74b4",
        "colab": {
          "base_uri": "https://localhost:8080/",
          "height": 195
        }
      },
      "source": [
        "df.head()"
      ],
      "execution_count": null,
      "outputs": [
        {
          "output_type": "execute_result",
          "data": {
            "text/html": [
              "<div>\n",
              "<style scoped>\n",
              "    .dataframe tbody tr th:only-of-type {\n",
              "        vertical-align: middle;\n",
              "    }\n",
              "\n",
              "    .dataframe tbody tr th {\n",
              "        vertical-align: top;\n",
              "    }\n",
              "\n",
              "    .dataframe thead th {\n",
              "        text-align: right;\n",
              "    }\n",
              "</style>\n",
              "<table border=\"1\" class=\"dataframe\">\n",
              "  <thead>\n",
              "    <tr style=\"text-align: right;\">\n",
              "      <th></th>\n",
              "      <th>Articles</th>\n",
              "      <th>Predicted Topics</th>\n",
              "    </tr>\n",
              "  </thead>\n",
              "  <tbody>\n",
              "    <tr>\n",
              "      <th>10390</th>\n",
              "      <td>Jamstix is a VST instrument produced by Rayzoo...</td>\n",
              "      <td>topic-3</td>\n",
              "    </tr>\n",
              "    <tr>\n",
              "      <th>3827</th>\n",
              "      <td>2012 Koreas 100 Most Influential Person for Ne...</td>\n",
              "      <td>topic-1</td>\n",
              "    </tr>\n",
              "    <tr>\n",
              "      <th>5083</th>\n",
              "      <td>Gourahari Das is a creative writer, journalist...</td>\n",
              "      <td>topic-4</td>\n",
              "    </tr>\n",
              "    <tr>\n",
              "      <th>13167</th>\n",
              "      <td>Mayhew formerly known as The Mayhew Animal Hom...</td>\n",
              "      <td>topic-2</td>\n",
              "    </tr>\n",
              "    <tr>\n",
              "      <th>15885</th>\n",
              "      <td>Palampur is a hill station and a municipal cou...</td>\n",
              "      <td>topic-2</td>\n",
              "    </tr>\n",
              "  </tbody>\n",
              "</table>\n",
              "</div>"
            ],
            "text/plain": [
              "                                                Articles Predicted Topics\n",
              "10390  Jamstix is a VST instrument produced by Rayzoo...          topic-3\n",
              "3827   2012 Koreas 100 Most Influential Person for Ne...          topic-1\n",
              "5083   Gourahari Das is a creative writer, journalist...          topic-4\n",
              "13167  Mayhew formerly known as The Mayhew Animal Hom...          topic-2\n",
              "15885  Palampur is a hill station and a municipal cou...          topic-2"
            ]
          },
          "metadata": {
            "tags": []
          },
          "execution_count": 22
        }
      ]
    },
    {
      "cell_type": "code",
      "metadata": {
        "id": "bfZKQa-gY0d7"
      },
      "source": [
        ""
      ],
      "execution_count": null,
      "outputs": []
    }
  ]
}