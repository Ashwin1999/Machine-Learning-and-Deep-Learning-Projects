{
 "cells": [
  {
   "cell_type": "markdown",
   "metadata": {},
   "source": [
    "# Audio File Classification"
   ]
  },
  {
   "cell_type": "markdown",
   "metadata": {},
   "source": [
    "## 1) Imports"
   ]
  },
  {
   "cell_type": "code",
   "execution_count": 1,
   "metadata": {},
   "outputs": [],
   "source": [
    "from tensorflow.keras.models import Sequential\n",
    "from tensorflow.keras.layers import Dense, Dropout, Conv2D, Flatten, MaxPooling2D, Activation\n",
    "\n",
    "import pandas as pd\n",
    "import numpy as np\n",
    "\n",
    "import os\n",
    "import warnings\n",
    "warnings.filterwarnings('ignore')"
   ]
  },
  {
   "cell_type": "code",
   "execution_count": 2,
   "metadata": {},
   "outputs": [
    {
     "name": "stdout",
     "output_type": "stream",
     "text": [
      "length: 98\n"
     ]
    },
    {
     "data": {
      "text/html": [
       "<div>\n",
       "<style scoped>\n",
       "    .dataframe tbody tr th:only-of-type {\n",
       "        vertical-align: middle;\n",
       "    }\n",
       "\n",
       "    .dataframe tbody tr th {\n",
       "        vertical-align: top;\n",
       "    }\n",
       "\n",
       "    .dataframe thead th {\n",
       "        text-align: right;\n",
       "    }\n",
       "</style>\n",
       "<table border=\"1\" class=\"dataframe\">\n",
       "  <thead>\n",
       "    <tr style=\"text-align: right;\">\n",
       "      <th></th>\n",
       "      <th>Filename</th>\n",
       "      <th>Class</th>\n",
       "      <th>Duration</th>\n",
       "    </tr>\n",
       "  </thead>\n",
       "  <tbody>\n",
       "    <tr>\n",
       "      <th>0</th>\n",
       "      <td>Dataset\\cat_99.wav</td>\n",
       "      <td>cat</td>\n",
       "      <td>12.000000</td>\n",
       "    </tr>\n",
       "    <tr>\n",
       "      <th>1</th>\n",
       "      <td>Dataset\\cat_34.wav</td>\n",
       "      <td>cat</td>\n",
       "      <td>8.748027</td>\n",
       "    </tr>\n",
       "    <tr>\n",
       "      <th>2</th>\n",
       "      <td>Dataset\\cat_132.wav</td>\n",
       "      <td>cat</td>\n",
       "      <td>15.192018</td>\n",
       "    </tr>\n",
       "    <tr>\n",
       "      <th>3</th>\n",
       "      <td>Dataset\\cat_90.wav</td>\n",
       "      <td>cat</td>\n",
       "      <td>12.216009</td>\n",
       "    </tr>\n",
       "    <tr>\n",
       "      <th>4</th>\n",
       "      <td>Dataset\\cat_101.wav</td>\n",
       "      <td>cat</td>\n",
       "      <td>11.500000</td>\n",
       "    </tr>\n",
       "  </tbody>\n",
       "</table>\n",
       "</div>"
      ],
      "text/plain": [
       "              Filename Class   Duration\n",
       "0   Dataset\\cat_99.wav   cat  12.000000\n",
       "1   Dataset\\cat_34.wav   cat   8.748027\n",
       "2  Dataset\\cat_132.wav   cat  15.192018\n",
       "3   Dataset\\cat_90.wav   cat  12.216009\n",
       "4  Dataset\\cat_101.wav   cat  11.500000"
      ]
     },
     "execution_count": 2,
     "metadata": {},
     "output_type": "execute_result"
    }
   ],
   "source": [
    "df = pd.read_csv('train.csv')\n",
    "print(f'length: {len(df)}')\n",
    "df.head()"
   ]
  },
  {
   "cell_type": "markdown",
   "metadata": {},
   "source": [
    "## 2) Melspectrogram"
   ]
  },
  {
   "cell_type": "code",
   "execution_count": 3,
   "metadata": {},
   "outputs": [],
   "source": [
    "import librosa\n",
    "import librosa.display"
   ]
  },
  {
   "cell_type": "code",
   "execution_count": 4,
   "metadata": {},
   "outputs": [
    {
     "name": "stdout",
     "output_type": "stream",
     "text": [
      "shape: (128, 128)\n"
     ]
    },
    {
     "data": {
      "text/plain": [
       "<matplotlib.axes._subplots.AxesSubplot at 0x1a0003b8c08>"
      ]
     },
     "execution_count": 4,
     "metadata": {},
     "output_type": "execute_result"
    },
    {
     "data": {
      "image/png": "[encoded data removed]",
      "text/plain": [
       "<Figure size 432x288 with 1 Axes>"
      ]
     },
     "metadata": {
      "needs_background": "light"
     },
     "output_type": "display_data"
    }
   ],
   "source": [
    "y, sr = librosa.load(df.iloc[11,0], duration=2.97)\n",
    "ps = librosa.feature.melspectrogram(y=y, sr=sr)\n",
    "print(f'shape: {ps.shape}')\n",
    "librosa.display.specshow(ps, y_axis='mel', x_axis='time')"
   ]
  },
  {
   "cell_type": "code",
   "execution_count": 5,
   "metadata": {},
   "outputs": [],
   "source": [
    "def toMel(filenames, ids):\n",
    "    Dataset = []\n",
    "    for file,ids in zip(filenames,ids):\n",
    "        y, sr = librosa.load(file,duration=2.97)\n",
    "        ps = librosa.feature.melspectrogram(y=y, sr=sr)\n",
    "        if ps.shape != (128, 128): continue\n",
    "        Dataset.append((ps,ids))\n",
    "    return Dataset"
   ]
  },
  {
   "cell_type": "code",
   "execution_count": 6,
   "metadata": {},
   "outputs": [],
   "source": [
    "Dataset = toMel(df.Filename, df.Class)"
   ]
  },
  {
   "cell_type": "markdown",
   "metadata": {},
   "source": [
    "## 3) Training and evaluation"
   ]
  },
  {
   "cell_type": "code",
   "execution_count": 7,
   "metadata": {},
   "outputs": [],
   "source": [
    "import random\n",
    "\n",
    "random.shuffle(Dataset)"
   ]
  },
  {
   "cell_type": "code",
   "execution_count": 8,
   "metadata": {},
   "outputs": [],
   "source": [
    "train, test = Dataset[:79],Dataset[79:]"
   ]
  },
  {
   "cell_type": "code",
   "execution_count": 9,
   "metadata": {},
   "outputs": [],
   "source": [
    "X_train, y_train = zip(*train)\n",
    "X_test, y_test = zip(*test)"
   ]
  },
  {
   "cell_type": "code",
   "execution_count": 10,
   "metadata": {},
   "outputs": [],
   "source": [
    "X_train = np.array([x.reshape( (128, 128, 1) ) for x in X_train])\n",
    "X_test = np.array([x.reshape( (128, 128, 1) ) for x in X_test])"
   ]
  },
  {
   "cell_type": "code",
   "execution_count": 11,
   "metadata": {},
   "outputs": [],
   "source": [
    "from sklearn.preprocessing import LabelEncoder"
   ]
  },
  {
   "cell_type": "code",
   "execution_count": 12,
   "metadata": {},
   "outputs": [],
   "source": [
    "le1 = LabelEncoder()\n",
    "le2 = LabelEncoder()\n",
    "\n",
    "y_train = le1.fit_transform(y_train)\n",
    "y_test = le2.fit_transform(y_test)"
   ]
  },
  {
   "cell_type": "code",
   "execution_count": 13,
   "metadata": {},
   "outputs": [],
   "source": [
    "model = Sequential()\n",
    "input_shape=(128, 128, 1)\n",
    "\n",
    "model.add(Conv2D(24, (5, 5), strides=(1, 1), input_shape=input_shape))\n",
    "model.add(MaxPooling2D((4, 2), strides=(4, 2)))\n",
    "model.add(Activation('relu'))\n",
    "\n",
    "model.add(Conv2D(48, (5, 5), padding=\"valid\"))\n",
    "model.add(MaxPooling2D((4, 2), strides=(4, 2)))\n",
    "model.add(Activation('relu'))\n",
    "\n",
    "model.add(Conv2D(48, (5, 5), padding=\"valid\"))\n",
    "model.add(Activation('relu'))\n",
    "\n",
    "model.add(Flatten())\n",
    "model.add(Dropout(rate=0.5))\n",
    "\n",
    "model.add(Dense(64))\n",
    "model.add(Activation('relu'))\n",
    "model.add(Dropout(rate=0.5))\n",
    "\n",
    "model.add(Dense(64))\n",
    "model.add(Activation('relu'))\n",
    "model.add(Dropout(rate=0.5))\n",
    "\n",
    "model.add(Dense(64))\n",
    "model.add(Activation('relu'))\n",
    "model.add(Dropout(rate=0.5))\n",
    "\n",
    "model.add(Dense(1))\n",
    "model.add(Activation('sigmoid'))"
   ]
  },
  {
   "cell_type": "code",
   "execution_count": 14,
   "metadata": {},
   "outputs": [
    {
     "name": "stdout",
     "output_type": "stream",
     "text": [
      "Train on 79 samples, validate on 19 samples\n",
      "Epoch 1/100\n",
      "79/79 [==============================] - 1s 19ms/sample - loss: 3.0342 - accuracy: 0.6076 - val_loss: 10.2901 - val_accuracy: 0.8421\n",
      "Epoch 2/100\n",
      "79/79 [==============================] - 0s 6ms/sample - loss: 6.1787 - accuracy: 0.6329 - val_loss: 8.2939 - val_accuracy: 0.8421\n",
      "Epoch 3/100\n",
      "79/79 [==============================] - 0s 6ms/sample - loss: 4.1797 - accuracy: 0.5823 - val_loss: 8.0618 - val_accuracy: 0.8421\n",
      "Epoch 4/100\n",
      "79/79 [==============================] - 0s 6ms/sample - loss: 6.9009 - accuracy: 0.6962 - val_loss: 4.9751 - val_accuracy: 0.8421\n",
      "Epoch 5/100\n",
      "79/79 [==============================] - 0s 6ms/sample - loss: 2.5913 - accuracy: 0.7215 - val_loss: 3.9699 - val_accuracy: 0.8421\n",
      "Epoch 6/100\n",
      "79/79 [==============================] - 0s 6ms/sample - loss: 3.6095 - accuracy: 0.6076 - val_loss: 3.0706 - val_accuracy: 0.8421\n",
      "Epoch 7/100\n",
      "79/79 [==============================] - 0s 6ms/sample - loss: 4.9352 - accuracy: 0.6329 - val_loss: 2.5636 - val_accuracy: 0.7895\n",
      "Epoch 8/100\n",
      "79/79 [==============================] - 0s 6ms/sample - loss: 5.0844 - accuracy: 0.6456 - val_loss: 2.3125 - val_accuracy: 0.7895\n",
      "Epoch 9/100\n",
      "79/79 [==============================] - 1s 6ms/sample - loss: 4.3558 - accuracy: 0.7089 - val_loss: 2.1634 - val_accuracy: 0.7895\n",
      "Epoch 10/100\n",
      "79/79 [==============================] - 0s 6ms/sample - loss: 6.4137 - accuracy: 0.5696 - val_loss: 1.7959 - val_accuracy: 0.7895\n",
      "Epoch 11/100\n",
      "79/79 [==============================] - 0s 6ms/sample - loss: 1.7671 - accuracy: 0.7089 - val_loss: 1.4577 - val_accuracy: 0.8421\n",
      "Epoch 12/100\n",
      "79/79 [==============================] - 0s 6ms/sample - loss: 2.6529 - accuracy: 0.7089 - val_loss: 1.2881 - val_accuracy: 0.7895\n",
      "Epoch 13/100\n",
      "79/79 [==============================] - 0s 6ms/sample - loss: 2.1444 - accuracy: 0.6962 - val_loss: 0.7846 - val_accuracy: 0.7895\n",
      "Epoch 14/100\n",
      "79/79 [==============================] - 0s 6ms/sample - loss: 1.6519 - accuracy: 0.6962 - val_loss: 0.5755 - val_accuracy: 0.8421\n",
      "Epoch 15/100\n",
      "79/79 [==============================] - 0s 6ms/sample - loss: 1.6962 - accuracy: 0.7215 - val_loss: 0.5313 - val_accuracy: 0.8421\n",
      "Epoch 16/100\n",
      "79/79 [==============================] - 0s 6ms/sample - loss: 2.2180 - accuracy: 0.6709 - val_loss: 0.6216 - val_accuracy: 0.7895\n",
      "Epoch 17/100\n",
      "79/79 [==============================] - 0s 6ms/sample - loss: 1.2185 - accuracy: 0.6835 - val_loss: 0.7554 - val_accuracy: 0.8421\n",
      "Epoch 18/100\n",
      "79/79 [==============================] - 0s 6ms/sample - loss: 1.5861 - accuracy: 0.7215 - val_loss: 0.8904 - val_accuracy: 0.8421\n",
      "Epoch 19/100\n",
      "79/79 [==============================] - 0s 6ms/sample - loss: 1.4361 - accuracy: 0.7468 - val_loss: 0.9903 - val_accuracy: 0.8421\n",
      "Epoch 20/100\n",
      "79/79 [==============================] - 0s 6ms/sample - loss: 1.5676 - accuracy: 0.7848 - val_loss: 1.0538 - val_accuracy: 0.8421\n",
      "Epoch 21/100\n",
      "79/79 [==============================] - 0s 6ms/sample - loss: 1.1729 - accuracy: 0.7468 - val_loss: 1.1721 - val_accuracy: 0.7895\n",
      "Epoch 22/100\n",
      "79/79 [==============================] - 1s 6ms/sample - loss: 0.8616 - accuracy: 0.7595 - val_loss: 1.0921 - val_accuracy: 0.7895\n",
      "Epoch 23/100\n",
      "79/79 [==============================] - 0s 6ms/sample - loss: 0.9995 - accuracy: 0.7595 - val_loss: 1.0366 - val_accuracy: 0.7895\n",
      "Epoch 24/100\n",
      "79/79 [==============================] - 0s 6ms/sample - loss: 1.0961 - accuracy: 0.7722 - val_loss: 1.0484 - val_accuracy: 0.7895\n",
      "Epoch 25/100\n",
      "79/79 [==============================] - 0s 6ms/sample - loss: 1.2632 - accuracy: 0.7468 - val_loss: 1.0570 - val_accuracy: 0.7895\n",
      "Epoch 26/100\n",
      "79/79 [==============================] - 0s 6ms/sample - loss: 0.8306 - accuracy: 0.7975 - val_loss: 1.0421 - val_accuracy: 0.7895\n",
      "Epoch 27/100\n",
      "79/79 [==============================] - 0s 6ms/sample - loss: 1.0418 - accuracy: 0.7468 - val_loss: 1.0087 - val_accuracy: 0.7895\n",
      "Epoch 28/100\n",
      "79/79 [==============================] - 0s 6ms/sample - loss: 1.2632 - accuracy: 0.7089 - val_loss: 0.9401 - val_accuracy: 0.7895\n",
      "Epoch 29/100\n",
      "79/79 [==============================] - 0s 6ms/sample - loss: 0.8654 - accuracy: 0.6835 - val_loss: 0.8580 - val_accuracy: 0.8421\n",
      "Epoch 30/100\n",
      "79/79 [==============================] - 0s 6ms/sample - loss: 0.7404 - accuracy: 0.7595 - val_loss: 0.7265 - val_accuracy: 0.8421\n",
      "Epoch 31/100\n",
      "79/79 [==============================] - 0s 6ms/sample - loss: 0.4778 - accuracy: 0.8481 - val_loss: 0.6448 - val_accuracy: 0.8421\n",
      "Epoch 32/100\n",
      "79/79 [==============================] - 0s 6ms/sample - loss: 1.0887 - accuracy: 0.7342 - val_loss: 0.5779 - val_accuracy: 0.8421\n",
      "Epoch 33/100\n",
      "79/79 [==============================] - 0s 6ms/sample - loss: 0.5859 - accuracy: 0.7595 - val_loss: 0.5536 - val_accuracy: 0.8421\n",
      "Epoch 34/100\n",
      "79/79 [==============================] - 0s 6ms/sample - loss: 0.5819 - accuracy: 0.7722 - val_loss: 0.5328 - val_accuracy: 0.7895\n",
      "Epoch 35/100\n",
      "79/79 [==============================] - 0s 6ms/sample - loss: 0.6342 - accuracy: 0.8101 - val_loss: 0.5067 - val_accuracy: 0.7895\n",
      "Epoch 36/100\n",
      "79/79 [==============================] - 0s 6ms/sample - loss: 0.8328 - accuracy: 0.7722 - val_loss: 0.4833 - val_accuracy: 0.8421\n",
      "Epoch 37/100\n",
      "79/79 [==============================] - 0s 6ms/sample - loss: 0.7728 - accuracy: 0.7848 - val_loss: 0.4662 - val_accuracy: 0.8421\n",
      "Epoch 38/100\n",
      "79/79 [==============================] - 1s 6ms/sample - loss: 0.6755 - accuracy: 0.7468 - val_loss: 0.4580 - val_accuracy: 0.8421\n",
      "Epoch 39/100\n",
      "79/79 [==============================] - 0s 6ms/sample - loss: 0.6696 - accuracy: 0.7595 - val_loss: 0.4402 - val_accuracy: 0.8421\n",
      "Epoch 40/100\n",
      "79/79 [==============================] - 1s 7ms/sample - loss: 0.6653 - accuracy: 0.7468 - val_loss: 0.4336 - val_accuracy: 0.8421\n",
      "Epoch 41/100\n",
      "79/79 [==============================] - 0s 6ms/sample - loss: 0.7540 - accuracy: 0.7468 - val_loss: 0.4337 - val_accuracy: 0.8421\n",
      "Epoch 42/100\n",
      "79/79 [==============================] - 1s 6ms/sample - loss: 0.7548 - accuracy: 0.8101 - val_loss: 0.4246 - val_accuracy: 0.7895\n",
      "Epoch 43/100\n",
      "79/79 [==============================] - 0s 6ms/sample - loss: 1.0395 - accuracy: 0.7722 - val_loss: 0.4198 - val_accuracy: 0.7895\n",
      "Epoch 44/100\n",
      "79/79 [==============================] - 0s 6ms/sample - loss: 0.6113 - accuracy: 0.7722 - val_loss: 0.4163 - val_accuracy: 0.7895\n",
      "Epoch 45/100\n",
      "79/79 [==============================] - 1s 6ms/sample - loss: 0.7362 - accuracy: 0.7342 - val_loss: 0.4078 - val_accuracy: 0.7895\n",
      "Epoch 46/100\n",
      "79/79 [==============================] - 0s 6ms/sample - loss: 0.6199 - accuracy: 0.7848 - val_loss: 0.4081 - val_accuracy: 0.7895\n",
      "Epoch 47/100\n",
      "79/79 [==============================] - 0s 6ms/sample - loss: 0.6487 - accuracy: 0.7848 - val_loss: 0.3889 - val_accuracy: 0.7895\n",
      "Epoch 48/100\n",
      "79/79 [==============================] - 0s 6ms/sample - loss: 0.5988 - accuracy: 0.7975 - val_loss: 0.3611 - val_accuracy: 0.8947\n",
      "Epoch 49/100\n",
      "79/79 [==============================] - 0s 6ms/sample - loss: 0.6219 - accuracy: 0.8101 - val_loss: 0.3425 - val_accuracy: 0.8947\n",
      "Epoch 50/100\n",
      "79/79 [==============================] - 0s 6ms/sample - loss: 0.6325 - accuracy: 0.7975 - val_loss: 0.3372 - val_accuracy: 0.8947\n",
      "Epoch 51/100\n",
      "79/79 [==============================] - 0s 6ms/sample - loss: 0.5366 - accuracy: 0.8354 - val_loss: 0.3332 - val_accuracy: 0.8947\n",
      "Epoch 52/100\n",
      "79/79 [==============================] - 0s 6ms/sample - loss: 0.4788 - accuracy: 0.8101 - val_loss: 0.3285 - val_accuracy: 0.8947\n",
      "Epoch 53/100\n",
      "79/79 [==============================] - 0s 6ms/sample - loss: 0.5273 - accuracy: 0.7975 - val_loss: 0.3253 - val_accuracy: 0.8947\n",
      "Epoch 54/100\n",
      "79/79 [==============================] - 0s 6ms/sample - loss: 0.9117 - accuracy: 0.7468 - val_loss: 0.3256 - val_accuracy: 0.8947\n",
      "Epoch 55/100\n",
      "79/79 [==============================] - 1s 6ms/sample - loss: 0.4264 - accuracy: 0.7975 - val_loss: 0.3261 - val_accuracy: 0.8947\n",
      "Epoch 56/100\n",
      "79/79 [==============================] - 0s 6ms/sample - loss: 0.5016 - accuracy: 0.8101 - val_loss: 0.3308 - val_accuracy: 0.8947\n",
      "Epoch 57/100\n"
     ]
    },
    {
     "name": "stdout",
     "output_type": "stream",
     "text": [
      "79/79 [==============================] - 0s 6ms/sample - loss: 0.7234 - accuracy: 0.7722 - val_loss: 0.3376 - val_accuracy: 0.8421\n",
      "Epoch 58/100\n",
      "79/79 [==============================] - 0s 6ms/sample - loss: 0.4842 - accuracy: 0.7848 - val_loss: 0.3504 - val_accuracy: 0.8421\n",
      "Epoch 59/100\n",
      "79/79 [==============================] - 0s 6ms/sample - loss: 0.5138 - accuracy: 0.7848 - val_loss: 0.3812 - val_accuracy: 0.8421\n",
      "Epoch 60/100\n",
      "79/79 [==============================] - 0s 6ms/sample - loss: 0.6368 - accuracy: 0.7975 - val_loss: 0.4152 - val_accuracy: 0.8421\n",
      "Epoch 61/100\n",
      "79/79 [==============================] - 0s 6ms/sample - loss: 0.4982 - accuracy: 0.8101 - val_loss: 0.4385 - val_accuracy: 0.8421\n",
      "Epoch 62/100\n",
      "79/79 [==============================] - 0s 6ms/sample - loss: 0.4571 - accuracy: 0.7848 - val_loss: 0.4580 - val_accuracy: 0.8421\n",
      "Epoch 63/100\n",
      "79/79 [==============================] - 0s 6ms/sample - loss: 0.4642 - accuracy: 0.8228 - val_loss: 0.4588 - val_accuracy: 0.8421\n",
      "Epoch 64/100\n",
      "79/79 [==============================] - 0s 6ms/sample - loss: 0.6178 - accuracy: 0.7595 - val_loss: 0.3974 - val_accuracy: 0.8421\n",
      "Epoch 65/100\n",
      "79/79 [==============================] - 0s 6ms/sample - loss: 0.7655 - accuracy: 0.7848 - val_loss: 0.3460 - val_accuracy: 0.8421\n",
      "Epoch 66/100\n",
      "79/79 [==============================] - 0s 6ms/sample - loss: 0.8088 - accuracy: 0.8101 - val_loss: 0.3224 - val_accuracy: 0.8421\n",
      "Epoch 67/100\n",
      "79/79 [==============================] - 0s 6ms/sample - loss: 0.5210 - accuracy: 0.8228 - val_loss: 0.3078 - val_accuracy: 0.8421\n",
      "Epoch 68/100\n",
      "79/79 [==============================] - 0s 6ms/sample - loss: 0.6222 - accuracy: 0.7848 - val_loss: 0.2988 - val_accuracy: 0.8947\n",
      "Epoch 69/100\n",
      "79/79 [==============================] - 0s 6ms/sample - loss: 0.4197 - accuracy: 0.8481 - val_loss: 0.2826 - val_accuracy: 0.8947\n",
      "Epoch 70/100\n",
      "79/79 [==============================] - 1s 6ms/sample - loss: 0.4993 - accuracy: 0.8228 - val_loss: 0.2791 - val_accuracy: 0.8947\n",
      "Epoch 71/100\n",
      "79/79 [==============================] - 0s 6ms/sample - loss: 0.4569 - accuracy: 0.7975 - val_loss: 0.2892 - val_accuracy: 0.8421\n",
      "Epoch 72/100\n",
      "79/79 [==============================] - 0s 6ms/sample - loss: 0.4747 - accuracy: 0.7848 - val_loss: 0.3168 - val_accuracy: 0.8421\n",
      "Epoch 73/100\n",
      "79/79 [==============================] - 0s 6ms/sample - loss: 0.6969 - accuracy: 0.7848 - val_loss: 0.3512 - val_accuracy: 0.8421\n",
      "Epoch 74/100\n",
      "79/79 [==============================] - 1s 6ms/sample - loss: 0.4950 - accuracy: 0.7975 - val_loss: 0.3617 - val_accuracy: 0.8421\n",
      "Epoch 75/100\n",
      "79/79 [==============================] - 1s 7ms/sample - loss: 0.4283 - accuracy: 0.8101 - val_loss: 0.3847 - val_accuracy: 0.8421\n",
      "Epoch 76/100\n",
      "79/79 [==============================] - 0s 6ms/sample - loss: 0.6705 - accuracy: 0.7722 - val_loss: 0.4028 - val_accuracy: 0.8421\n",
      "Epoch 77/100\n",
      "79/79 [==============================] - 0s 6ms/sample - loss: 0.4085 - accuracy: 0.7975 - val_loss: 0.4150 - val_accuracy: 0.8421\n",
      "Epoch 78/100\n",
      "79/79 [==============================] - 0s 6ms/sample - loss: 0.6206 - accuracy: 0.7468 - val_loss: 0.4362 - val_accuracy: 0.8421\n",
      "Epoch 79/100\n",
      "79/79 [==============================] - 1s 6ms/sample - loss: 0.4397 - accuracy: 0.8101 - val_loss: 0.4605 - val_accuracy: 0.8421\n",
      "Epoch 80/100\n",
      "79/79 [==============================] - 1s 7ms/sample - loss: 0.4403 - accuracy: 0.7975 - val_loss: 0.4809 - val_accuracy: 0.8421\n",
      "Epoch 81/100\n",
      "79/79 [==============================] - 0s 6ms/sample - loss: 0.4419 - accuracy: 0.8101 - val_loss: 0.4701 - val_accuracy: 0.8421\n",
      "Epoch 82/100\n",
      "79/79 [==============================] - 0s 6ms/sample - loss: 0.3961 - accuracy: 0.8354 - val_loss: 0.4237 - val_accuracy: 0.8421\n",
      "Epoch 83/100\n",
      "79/79 [==============================] - 0s 6ms/sample - loss: 0.6315 - accuracy: 0.7848 - val_loss: 0.3501 - val_accuracy: 0.8421\n",
      "Epoch 84/100\n",
      "79/79 [==============================] - 1s 6ms/sample - loss: 0.4247 - accuracy: 0.7975 - val_loss: 0.2780 - val_accuracy: 0.8421\n",
      "Epoch 85/100\n",
      "79/79 [==============================] - 0s 6ms/sample - loss: 0.4366 - accuracy: 0.8101 - val_loss: 0.2553 - val_accuracy: 0.8421\n",
      "Epoch 86/100\n",
      "79/79 [==============================] - 0s 6ms/sample - loss: 0.4089 - accuracy: 0.8228 - val_loss: 0.2464 - val_accuracy: 0.8947\n",
      "Epoch 87/100\n",
      "79/79 [==============================] - 1s 6ms/sample - loss: 0.3585 - accuracy: 0.8354 - val_loss: 0.2342 - val_accuracy: 0.8947\n",
      "Epoch 88/100\n",
      "79/79 [==============================] - 0s 6ms/sample - loss: 0.3572 - accuracy: 0.8101 - val_loss: 0.2287 - val_accuracy: 0.8947\n",
      "Epoch 89/100\n",
      "79/79 [==============================] - 1s 6ms/sample - loss: 0.3848 - accuracy: 0.8101 - val_loss: 0.2167 - val_accuracy: 0.8947\n",
      "Epoch 90/100\n",
      "79/79 [==============================] - 0s 6ms/sample - loss: 0.4236 - accuracy: 0.8101 - val_loss: 0.2037 - val_accuracy: 0.8947\n",
      "Epoch 91/100\n",
      "79/79 [==============================] - 0s 6ms/sample - loss: 0.3212 - accuracy: 0.8354 - val_loss: 0.2036 - val_accuracy: 0.8947\n",
      "Epoch 92/100\n",
      "79/79 [==============================] - 1s 6ms/sample - loss: 0.3606 - accuracy: 0.8354 - val_loss: 0.2065 - val_accuracy: 0.8947\n",
      "Epoch 93/100\n",
      "79/79 [==============================] - 1s 6ms/sample - loss: 0.3191 - accuracy: 0.8608 - val_loss: 0.2110 - val_accuracy: 0.8947\n",
      "Epoch 94/100\n",
      "79/79 [==============================] - 0s 6ms/sample - loss: 0.3555 - accuracy: 0.8354 - val_loss: 0.2168 - val_accuracy: 0.8947\n",
      "Epoch 95/100\n",
      "79/79 [==============================] - 1s 6ms/sample - loss: 0.3272 - accuracy: 0.8481 - val_loss: 0.2147 - val_accuracy: 0.8947\n",
      "Epoch 96/100\n",
      "79/79 [==============================] - 0s 6ms/sample - loss: 0.3108 - accuracy: 0.8608 - val_loss: 0.2138 - val_accuracy: 0.8947\n",
      "Epoch 97/100\n",
      "79/79 [==============================] - 1s 6ms/sample - loss: 0.3027 - accuracy: 0.8987 - val_loss: 0.2148 - val_accuracy: 0.8421\n",
      "Epoch 98/100\n",
      "79/79 [==============================] - 0s 6ms/sample - loss: 0.3121 - accuracy: 0.8481 - val_loss: 0.2136 - val_accuracy: 0.8421\n",
      "Epoch 99/100\n",
      "79/79 [==============================] - 0s 6ms/sample - loss: 0.4501 - accuracy: 0.8354 - val_loss: 0.2131 - val_accuracy: 0.8421\n",
      "Epoch 100/100\n",
      "79/79 [==============================] - 0s 6ms/sample - loss: 0.4571 - accuracy: 0.8481 - val_loss: 0.2177 - val_accuracy: 0.8421\n"
     ]
    },
    {
     "data": {
      "text/plain": [
       "<tensorflow.python.keras.callbacks.History at 0x1a000162348>"
      ]
     },
     "execution_count": 14,
     "metadata": {},
     "output_type": "execute_result"
    }
   ],
   "source": [
    "model.compile(\n",
    "    optimizer=\"Adam\",\n",
    "    loss=\"binary_crossentropy\",\n",
    "    metrics=['accuracy']\n",
    ")\n",
    "\n",
    "model.fit(\n",
    "    x=X_train, \n",
    "    y=y_train,\n",
    "    epochs=100,\n",
    "    batch_size=64,\n",
    "    validation_data= (X_test, y_test)\n",
    ")"
   ]
  },
  {
   "cell_type": "code",
   "execution_count": 15,
   "metadata": {},
   "outputs": [
    {
     "name": "stdout",
     "output_type": "stream",
     "text": [
      "19/1 [==========================================================================================================================================================================================================================================================================================================================================================================================================================================================================================================================================================================================] - 0s 4ms/sample - loss: 0.2177 - accuracy: 0.8421\n",
      "Test loss: 0.2176636904478073\n",
      "Test accuracy: 0.84210527\n"
     ]
    }
   ],
   "source": [
    "score = model.evaluate(\n",
    "    x=X_test,\n",
    "    y=y_test\n",
    ")\n",
    "\n",
    "print('Test loss:', score[0])\n",
    "print('Test accuracy:', score[1])"
   ]
  },
  {
   "cell_type": "markdown",
   "metadata": {},
   "source": [
    "## 4) Testing"
   ]
  },
  {
   "cell_type": "code",
   "execution_count": 16,
   "metadata": {},
   "outputs": [
    {
     "data": {
      "text/html": [
       "<div>\n",
       "<style scoped>\n",
       "    .dataframe tbody tr th:only-of-type {\n",
       "        vertical-align: middle;\n",
       "    }\n",
       "\n",
       "    .dataframe tbody tr th {\n",
       "        vertical-align: top;\n",
       "    }\n",
       "\n",
       "    .dataframe thead th {\n",
       "        text-align: right;\n",
       "    }\n",
       "</style>\n",
       "<table border=\"1\" class=\"dataframe\">\n",
       "  <thead>\n",
       "    <tr style=\"text-align: right;\">\n",
       "      <th></th>\n",
       "      <th>Filename</th>\n",
       "      <th>Class</th>\n",
       "      <th>Duration</th>\n",
       "    </tr>\n",
       "  </thead>\n",
       "  <tbody>\n",
       "    <tr>\n",
       "      <th>0</th>\n",
       "      <td>Dataset\\cat_22.wav</td>\n",
       "      <td>cat</td>\n",
       "      <td>10.300000</td>\n",
       "    </tr>\n",
       "    <tr>\n",
       "      <th>1</th>\n",
       "      <td>Dataset\\cat_116.wav</td>\n",
       "      <td>cat</td>\n",
       "      <td>11.900000</td>\n",
       "    </tr>\n",
       "    <tr>\n",
       "      <th>2</th>\n",
       "      <td>Dataset\\cat_155.wav</td>\n",
       "      <td>cat</td>\n",
       "      <td>1.944036</td>\n",
       "    </tr>\n",
       "    <tr>\n",
       "      <th>3</th>\n",
       "      <td>Dataset\\cat_58.wav</td>\n",
       "      <td>cat</td>\n",
       "      <td>12.000000</td>\n",
       "    </tr>\n",
       "    <tr>\n",
       "      <th>4</th>\n",
       "      <td>Dataset\\cat_77.wav</td>\n",
       "      <td>cat</td>\n",
       "      <td>3.044036</td>\n",
       "    </tr>\n",
       "  </tbody>\n",
       "</table>\n",
       "</div>"
      ],
      "text/plain": [
       "              Filename Class   Duration\n",
       "0   Dataset\\cat_22.wav   cat  10.300000\n",
       "1  Dataset\\cat_116.wav   cat  11.900000\n",
       "2  Dataset\\cat_155.wav   cat   1.944036\n",
       "3   Dataset\\cat_58.wav   cat  12.000000\n",
       "4   Dataset\\cat_77.wav   cat   3.044036"
      ]
     },
     "execution_count": 16,
     "metadata": {},
     "output_type": "execute_result"
    }
   ],
   "source": [
    "test_df = pd.read_csv('test.csv')\n",
    "test_df.head()"
   ]
  },
  {
   "cell_type": "code",
   "execution_count": 17,
   "metadata": {},
   "outputs": [],
   "source": [
    "Test_Dataset = toMel(test_df.Filename, test_df.Class)"
   ]
  },
  {
   "cell_type": "code",
   "execution_count": 18,
   "metadata": {},
   "outputs": [
    {
     "data": {
      "text/plain": [
       "(array([[8.5615348e-03, 2.9255063e-03, 5.6663819e-04, ..., 2.0850975e-04,\n",
       "         2.1397219e-04, 1.1270854e-03],\n",
       "        [1.5062341e-01, 4.8814062e-02, 1.6571373e-02, ..., 1.6595665e-03,\n",
       "         2.1096056e-03, 2.0910108e-03],\n",
       "        [3.7686762e-01, 1.4975561e-01, 8.0373459e-02, ..., 1.4409575e-02,\n",
       "         1.3993740e-02, 5.9837569e-03],\n",
       "        ...,\n",
       "        [1.4456814e-06, 3.6141904e-07, 2.4635609e-16, ..., 3.7424969e-15,\n",
       "         1.6933336e-09, 1.9017061e-05],\n",
       "        [1.4112386e-06, 3.5280846e-07, 2.3764020e-16, ..., 4.1564330e-15,\n",
       "         1.6657444e-09, 1.8706714e-05],\n",
       "        [1.3896436e-06, 3.4740958e-07, 3.1436998e-16, ..., 2.8536434e-15,\n",
       "         1.6482450e-09, 1.8509874e-05]], dtype=float32),\n",
       " 'cat')"
      ]
     },
     "execution_count": 18,
     "metadata": {},
     "output_type": "execute_result"
    }
   ],
   "source": [
    "Test_Dataset[0]"
   ]
  },
  {
   "cell_type": "code",
   "execution_count": 19,
   "metadata": {},
   "outputs": [],
   "source": [
    "random.shuffle(Test_Dataset)"
   ]
  },
  {
   "cell_type": "code",
   "execution_count": 20,
   "metadata": {},
   "outputs": [],
   "source": [
    "X_feat, y_actual = zip(*Test_Dataset)"
   ]
  },
  {
   "cell_type": "code",
   "execution_count": 21,
   "metadata": {},
   "outputs": [],
   "source": [
    "X_feat = np.array([x.reshape( (128, 128, 1) ) for x in X_feat])"
   ]
  },
  {
   "cell_type": "code",
   "execution_count": 22,
   "metadata": {},
   "outputs": [],
   "source": [
    "le3 = LabelEncoder()\n",
    "y_actual = le3.fit_transform(y_actual)"
   ]
  },
  {
   "cell_type": "code",
   "execution_count": 23,
   "metadata": {},
   "outputs": [
    {
     "name": "stdout",
     "output_type": "stream",
     "text": [
      "69/1 [======================================================================================================================================================================================================================================================================================================================================================================================================================================================================================================================================================================================================================================================================================================================================================================================================================================================================================================================================================================================================================================================================================================================================================================================================================================================================================================================================================================================================================================================================================================================================================================================================================================================================================================================================================================================================================================================================================================================================================================================================================================================================================================================================================] - 0s 2ms/sample - loss: 0.6990 - accuracy: 0.7681\n",
      "loss: 0.8765850283097529\n",
      "accuracy: 0.76811594\n"
     ]
    }
   ],
   "source": [
    "new_score = model.evaluate(\n",
    "    x=X_feat,\n",
    "    y=y_actual\n",
    ")\n",
    "\n",
    "print('loss:', new_score[0])\n",
    "print('accuracy:', new_score[1])"
   ]
  },
  {
   "cell_type": "code",
   "execution_count": null,
   "metadata": {},
   "outputs": [],
   "source": []
  }
 ],
 "metadata": {
  "kernelspec": {
   "display_name": "Python 3",
   "language": "python",
   "name": "python3"
  },
  "language_info": {
   "codemirror_mode": {
    "name": "ipython",
    "version": 3
   },
   "file_extension": ".py",
   "mimetype": "text/x-python",
   "name": "python",
   "nbconvert_exporter": "python",
   "pygments_lexer": "ipython3",
   "version": "3.7.6"
  }
 },
 "nbformat": 4,
 "nbformat_minor": 4
}
